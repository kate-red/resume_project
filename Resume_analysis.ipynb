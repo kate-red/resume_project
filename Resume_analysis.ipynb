{
 "cells": [
  {
   "cell_type": "code",
   "execution_count": 2,
   "metadata": {},
   "outputs": [],
   "source": [
    "import pandas as pd\n",
    "import seaborn as sns\n",
    "import matplotlib.pyplot as plt\n",
    "pd.set_option('display.max_rows', 66)"
   ]
  },
  {
   "cell_type": "code",
   "execution_count": 3,
   "metadata": {},
   "outputs": [],
   "source": [
    "data = pd.read_json(\"hh_parser/HH_resume.json\")"
   ]
  },
  {
   "cell_type": "code",
   "execution_count": 4,
   "metadata": {},
   "outputs": [],
   "source": [
    "data = data.rename(columns = {'Desired wage': 'Desired wage, RUB', 'Total work experience (years)': 'Total work experience, years'})"
   ]
  },
  {
   "cell_type": "code",
   "execution_count": 5,
   "metadata": {},
   "outputs": [
    {
     "data": {
      "text/html": [
       "<div>\n",
       "<style scoped>\n",
       "    .dataframe tbody tr th:only-of-type {\n",
       "        vertical-align: middle;\n",
       "    }\n",
       "\n",
       "    .dataframe tbody tr th {\n",
       "        vertical-align: top;\n",
       "    }\n",
       "\n",
       "    .dataframe thead th {\n",
       "        text-align: right;\n",
       "    }\n",
       "</style>\n",
       "<table border=\"1\" class=\"dataframe\">\n",
       "  <thead>\n",
       "    <tr style=\"text-align: right;\">\n",
       "      <th></th>\n",
       "      <th>id</th>\n",
       "      <th>Job title</th>\n",
       "      <th>Gender</th>\n",
       "      <th>Age</th>\n",
       "      <th>Location</th>\n",
       "      <th>Desired wage, RUB</th>\n",
       "      <th>Area</th>\n",
       "      <th>Total work experience, years</th>\n",
       "      <th>Work experience</th>\n",
       "      <th>Education</th>\n",
       "      <th>Language proficiency</th>\n",
       "      <th>Additional Courses</th>\n",
       "      <th>Skills</th>\n",
       "    </tr>\n",
       "  </thead>\n",
       "  <tbody>\n",
       "    <tr>\n",
       "      <th>0</th>\n",
       "      <td>1</td>\n",
       "      <td>Sales Manager</td>\n",
       "      <td>male</td>\n",
       "      <td>40</td>\n",
       "      <td>Russia, Moscow</td>\n",
       "      <td>120000</td>\n",
       "      <td>Raw materials</td>\n",
       "      <td>17</td>\n",
       "      <td>[{'Company name': 'Saint-Gobain Perfomance Pla...</td>\n",
       "      <td>[{'University': 'Moscow State Aircraft Technol...</td>\n",
       "      <td>{'Russian': 'Native', 'English': 'Advanced'}</td>\n",
       "      <td>[{'Course name': 'Negotiation skills Training'...</td>\n",
       "      <td>[Sales Forecasting, Sales Management, Sales Pl...</td>\n",
       "    </tr>\n",
       "    <tr>\n",
       "      <th>1</th>\n",
       "      <td>2</td>\n",
       "      <td>Sales Manager</td>\n",
       "      <td>male</td>\n",
       "      <td>31</td>\n",
       "      <td>Russia, Moscow</td>\n",
       "      <td>80000</td>\n",
       "      <td>Tourism</td>\n",
       "      <td>8</td>\n",
       "      <td>[{'Company name': 'Holiday Inn Moscow Lesnaya'...</td>\n",
       "      <td>[{'University': 'Institute of Economics, Manag...</td>\n",
       "      <td>{'Russian': 'Native', 'English': 'Advanced'}</td>\n",
       "      <td>[{'Course name': 'Effective Sales Negotiations...</td>\n",
       "      <td>[Sales Forecasting, Sales Management, Sales Pl...</td>\n",
       "    </tr>\n",
       "    <tr>\n",
       "      <th>2</th>\n",
       "      <td>3</td>\n",
       "      <td>Sales Manager</td>\n",
       "      <td>female</td>\n",
       "      <td>31</td>\n",
       "      <td>Russia, Moscow</td>\n",
       "      <td>100000</td>\n",
       "      <td>IT</td>\n",
       "      <td>13</td>\n",
       "      <td>[{'Company name': 'Center Сomputer Accounting'...</td>\n",
       "      <td>[{'University': 'Financial University Under th...</td>\n",
       "      <td>{'Russian': 'Native', 'English': 'Intermediate'}</td>\n",
       "      <td>[{'Course name': 'Foreign language', 'Educatio...</td>\n",
       "      <td>[C1, Sales Management, Marketing Analysis, Sal...</td>\n",
       "    </tr>\n",
       "    <tr>\n",
       "      <th>3</th>\n",
       "      <td>4</td>\n",
       "      <td>Sales Manager</td>\n",
       "      <td>female</td>\n",
       "      <td>23</td>\n",
       "      <td>Russia, Moscow</td>\n",
       "      <td>100000</td>\n",
       "      <td>Marketing</td>\n",
       "      <td>4</td>\n",
       "      <td>[{'Company name': 'SP Group', 'Company locatio...</td>\n",
       "      <td>[{'University': 'Plekhanov Russian University ...</td>\n",
       "      <td>{'Russian': 'Native', 'English': 'Advanced', '...</td>\n",
       "      <td>[{'Course name': 'Google Digital Garage', 'Edu...</td>\n",
       "      <td>[PR, Project Management, Digital Marketing, Sa...</td>\n",
       "    </tr>\n",
       "    <tr>\n",
       "      <th>4</th>\n",
       "      <td>5</td>\n",
       "      <td>Sales Manager</td>\n",
       "      <td>male</td>\n",
       "      <td>25</td>\n",
       "      <td>Russia, Moscow</td>\n",
       "      <td>70000</td>\n",
       "      <td>Tourism</td>\n",
       "      <td>3</td>\n",
       "      <td>[{'Company name': 'RateHawk.com', 'Company loc...</td>\n",
       "      <td>[{'University': 'UNIVERSITY OF WOLVERHAMPTON',...</td>\n",
       "      <td>{'Russian': 'Native', 'English': 'Advanced'}</td>\n",
       "      <td>Not stated</td>\n",
       "      <td>[Analytical skills, Organization skills, Time ...</td>\n",
       "    </tr>\n",
       "    <tr>\n",
       "      <th>5</th>\n",
       "      <td>6</td>\n",
       "      <td>Sales Manager</td>\n",
       "      <td>female</td>\n",
       "      <td>29</td>\n",
       "      <td>Russia, Moscow</td>\n",
       "      <td>130000</td>\n",
       "      <td>Marketing</td>\n",
       "      <td>8</td>\n",
       "      <td>[{'Company name': 'Firmenich LLC', 'Company lo...</td>\n",
       "      <td>[{'University': 'Moscow State Linguistic Unive...</td>\n",
       "      <td>{'Russian': 'Native', 'English': 'Advanced', '...</td>\n",
       "      <td>[{'Course name': 'Business English', 'Educatio...</td>\n",
       "      <td>[Negotiation skills, C1, Analytical skills, Or...</td>\n",
       "    </tr>\n",
       "    <tr>\n",
       "      <th>6</th>\n",
       "      <td>7</td>\n",
       "      <td>Sales Manager</td>\n",
       "      <td>male</td>\n",
       "      <td>29</td>\n",
       "      <td>Russia, Moscow</td>\n",
       "      <td>80000</td>\n",
       "      <td>IT</td>\n",
       "      <td>3</td>\n",
       "      <td>[{'Company name': 'SilverBulleters, LLC', 'Com...</td>\n",
       "      <td>[{'University': 'Moscow Polytechnic University...</td>\n",
       "      <td>{'Russian': 'Native', 'English': 'Upper Interm...</td>\n",
       "      <td>Not stated</td>\n",
       "      <td>[Customer service, Negotiation skills, Sales s...</td>\n",
       "    </tr>\n",
       "    <tr>\n",
       "      <th>7</th>\n",
       "      <td>8</td>\n",
       "      <td>Sales Manager</td>\n",
       "      <td>male</td>\n",
       "      <td>35</td>\n",
       "      <td>Russia, Moscow</td>\n",
       "      <td>170000</td>\n",
       "      <td>IT</td>\n",
       "      <td>7</td>\n",
       "      <td>[{'Company name': 'Bentley Systems Russia &amp; CI...</td>\n",
       "      <td>[{'University': 'Novosibirsk State Technical U...</td>\n",
       "      <td>{'Russian': 'Native', 'English': 'Advanced'}</td>\n",
       "      <td>Not stated</td>\n",
       "      <td>[Negotiation skills, B2B, Direct sales, Sales ...</td>\n",
       "    </tr>\n",
       "    <tr>\n",
       "      <th>8</th>\n",
       "      <td>9</td>\n",
       "      <td>Sales Manager</td>\n",
       "      <td>female</td>\n",
       "      <td>35</td>\n",
       "      <td>Russia, Moscow</td>\n",
       "      <td>120000</td>\n",
       "      <td>Consulting</td>\n",
       "      <td>16</td>\n",
       "      <td>[{'Company name': 'Intalev consulting company'...</td>\n",
       "      <td>[{'University': 'Moscow State University', 'Ed...</td>\n",
       "      <td>{'Russian': 'Native', 'English': 'Advanced', '...</td>\n",
       "      <td>Not stated</td>\n",
       "      <td>[Customer service, Negotiation skills, Team wo...</td>\n",
       "    </tr>\n",
       "    <tr>\n",
       "      <th>9</th>\n",
       "      <td>10</td>\n",
       "      <td>Sales Manager</td>\n",
       "      <td>male</td>\n",
       "      <td>30</td>\n",
       "      <td>Russia, Moscow</td>\n",
       "      <td>90000</td>\n",
       "      <td>Retail</td>\n",
       "      <td>8</td>\n",
       "      <td>[{'Company name': 'Philips', 'Company location...</td>\n",
       "      <td>[{'University': 'Moscow Institute of World Eco...</td>\n",
       "      <td>{'Russian': 'Native', 'English': 'Advanced'}</td>\n",
       "      <td>Not stated</td>\n",
       "      <td>[Customer service, Negotiation skills, SAP, An...</td>\n",
       "    </tr>\n",
       "    <tr>\n",
       "      <th>10</th>\n",
       "      <td>11</td>\n",
       "      <td>Sales Manager</td>\n",
       "      <td>male</td>\n",
       "      <td>37</td>\n",
       "      <td>Russia, Saint Petersburg</td>\n",
       "      <td>85000</td>\n",
       "      <td>Electronics</td>\n",
       "      <td>3</td>\n",
       "      <td>[{'Company name': 'Siemens', 'Company location...</td>\n",
       "      <td>[{'University': 'Belarusian National Technical...</td>\n",
       "      <td>{'Russian': 'Native', 'English': 'Proficiency'...</td>\n",
       "      <td>Not stated</td>\n",
       "      <td>[Project management, Negotiation skills, prese...</td>\n",
       "    </tr>\n",
       "    <tr>\n",
       "      <th>11</th>\n",
       "      <td>12</td>\n",
       "      <td>Sales Manager</td>\n",
       "      <td>female</td>\n",
       "      <td>36</td>\n",
       "      <td>Russia, Moscow</td>\n",
       "      <td>80000</td>\n",
       "      <td>IT</td>\n",
       "      <td>8</td>\n",
       "      <td>[{'Company name': 'Omnicomm', 'Company locatio...</td>\n",
       "      <td>[{'University': 'Plekhanov Russian University ...</td>\n",
       "      <td>{'Russian': 'Native', 'English': 'Proficiency'...</td>\n",
       "      <td>[{'Course name': 'Employment and cultural trai...</td>\n",
       "      <td>[Communication skills, Negotiation skills, Tim...</td>\n",
       "    </tr>\n",
       "    <tr>\n",
       "      <th>12</th>\n",
       "      <td>13</td>\n",
       "      <td>Sales Manager</td>\n",
       "      <td>male</td>\n",
       "      <td>26</td>\n",
       "      <td>Russia, Moscow</td>\n",
       "      <td>90000</td>\n",
       "      <td>Retail</td>\n",
       "      <td>4</td>\n",
       "      <td>[{'Company name': 'Royal Canin', 'Company loca...</td>\n",
       "      <td>[{'University': 'Moscow Technical University o...</td>\n",
       "      <td>{'Russian': 'Native', 'English': 'Beginner'}</td>\n",
       "      <td>Not stated</td>\n",
       "      <td>[Active sales, Negotiation skills, SAP]</td>\n",
       "    </tr>\n",
       "    <tr>\n",
       "      <th>13</th>\n",
       "      <td>14</td>\n",
       "      <td>Sales Manager</td>\n",
       "      <td>female</td>\n",
       "      <td>25</td>\n",
       "      <td>Russia, Moscow</td>\n",
       "      <td>60000</td>\n",
       "      <td>IT</td>\n",
       "      <td>2</td>\n",
       "      <td>[{'Company name': 'Netwell', 'Company location...</td>\n",
       "      <td>[{'University': 'National Research University'...</td>\n",
       "      <td>{'Russian': 'Native', 'English': 'Upper Interm...</td>\n",
       "      <td>Not stated</td>\n",
       "      <td>[Customer service, Negotiation skills, Sales, ...</td>\n",
       "    </tr>\n",
       "    <tr>\n",
       "      <th>14</th>\n",
       "      <td>15</td>\n",
       "      <td>Sales Manager</td>\n",
       "      <td>male</td>\n",
       "      <td>30</td>\n",
       "      <td>Russia, Moscow</td>\n",
       "      <td>90000</td>\n",
       "      <td>Health care</td>\n",
       "      <td>4</td>\n",
       "      <td>[{'Company name': 'Ruskhimset', 'Company locat...</td>\n",
       "      <td>[{'University': 'Moscow State University of Fi...</td>\n",
       "      <td>{'Russian': 'Native', 'English': 'Upper-Interm...</td>\n",
       "      <td>[{'Course name': 'Dry mortar technology: selec...</td>\n",
       "      <td>[Proactive, Result-oriented, Negotiation skill...</td>\n",
       "    </tr>\n",
       "    <tr>\n",
       "      <th>15</th>\n",
       "      <td>16</td>\n",
       "      <td>Sales Manager</td>\n",
       "      <td>female</td>\n",
       "      <td>28</td>\n",
       "      <td>Russia, Moscow</td>\n",
       "      <td>80000</td>\n",
       "      <td>Marketing</td>\n",
       "      <td>2</td>\n",
       "      <td>[{'Company name': 'MAKESPACE DEVELOPMENT', 'Co...</td>\n",
       "      <td>[{'University': 'MGIMO University', 'Education...</td>\n",
       "      <td>{'Russian': 'Native', 'English': 'Advanced', '...</td>\n",
       "      <td>Not stated</td>\n",
       "      <td>[Customer service, Negotiation skills, Sales s...</td>\n",
       "    </tr>\n",
       "    <tr>\n",
       "      <th>16</th>\n",
       "      <td>17</td>\n",
       "      <td>Sales Manager</td>\n",
       "      <td>male</td>\n",
       "      <td>37</td>\n",
       "      <td>Russia, Moscow</td>\n",
       "      <td>100000</td>\n",
       "      <td>Electronics</td>\n",
       "      <td>4</td>\n",
       "      <td>[{'Company name': 'Coral Travel (authorized ag...</td>\n",
       "      <td>[{'University': 'The Moscow State University o...</td>\n",
       "      <td>{'Russian': 'Native', 'English': 'Upper-Interm...</td>\n",
       "      <td>[{'Course name': 'English language courses', '...</td>\n",
       "      <td>[Direct sales, Management]</td>\n",
       "    </tr>\n",
       "    <tr>\n",
       "      <th>17</th>\n",
       "      <td>18</td>\n",
       "      <td>Sales Manager</td>\n",
       "      <td>female</td>\n",
       "      <td>40</td>\n",
       "      <td>Russia, Moscow</td>\n",
       "      <td>80000</td>\n",
       "      <td>Electronics</td>\n",
       "      <td>5</td>\n",
       "      <td>[{'Company name': 'The Сenter for Strategic De...</td>\n",
       "      <td>[{'University': 'The Moscow Aviation Institute...</td>\n",
       "      <td>{'Russian': 'Native', 'English': 'Advanced'}</td>\n",
       "      <td>Not stated</td>\n",
       "      <td>[Customer service, Negotiation skills, CRM, An...</td>\n",
       "    </tr>\n",
       "    <tr>\n",
       "      <th>18</th>\n",
       "      <td>19</td>\n",
       "      <td>Sales Manager</td>\n",
       "      <td>female</td>\n",
       "      <td>31</td>\n",
       "      <td>Russia, Moscow</td>\n",
       "      <td>75000</td>\n",
       "      <td>Retail</td>\n",
       "      <td>8</td>\n",
       "      <td>[{'Company name': 'StudyLab', 'Company locatio...</td>\n",
       "      <td>[{'University': 'North-Caucasian Federal Unive...</td>\n",
       "      <td>{'Russian': 'Native', 'English': 'Advanced', '...</td>\n",
       "      <td>Not stated</td>\n",
       "      <td>[Sales skills, Negotiation skills, CRM, Analyt...</td>\n",
       "    </tr>\n",
       "    <tr>\n",
       "      <th>19</th>\n",
       "      <td>20</td>\n",
       "      <td>Sales Manager</td>\n",
       "      <td>male</td>\n",
       "      <td>34</td>\n",
       "      <td>Russia, Moscow</td>\n",
       "      <td>100000</td>\n",
       "      <td>Consulting</td>\n",
       "      <td>7</td>\n",
       "      <td>[{'Company name': 'Reed Exhibitions', 'Company...</td>\n",
       "      <td>[{'University': 'Moscow Institute of World Eco...</td>\n",
       "      <td>{'Russian': 'Native', 'English': 'Advanced'}</td>\n",
       "      <td>Not stated</td>\n",
       "      <td>[Customer relations, Negotiation skills, Incot...</td>\n",
       "    </tr>\n",
       "    <tr>\n",
       "      <th>20</th>\n",
       "      <td>21</td>\n",
       "      <td>Sales Manager</td>\n",
       "      <td>male</td>\n",
       "      <td>37</td>\n",
       "      <td>Russia, Moscow</td>\n",
       "      <td>110000</td>\n",
       "      <td>Auto</td>\n",
       "      <td>9</td>\n",
       "      <td>[{'Company name': 'Ford Sollers Holding LLC', ...</td>\n",
       "      <td>[{'University': 'Military and Technical Univer...</td>\n",
       "      <td>{'Russian': 'Native', 'English': 'Upper-Interm...</td>\n",
       "      <td>Not stated</td>\n",
       "      <td>[Customer service, Negotiation skills, Sales s...</td>\n",
       "    </tr>\n",
       "    <tr>\n",
       "      <th>21</th>\n",
       "      <td>22</td>\n",
       "      <td>Sales Manager</td>\n",
       "      <td>male</td>\n",
       "      <td>42</td>\n",
       "      <td>Russia, Moscow</td>\n",
       "      <td>150000</td>\n",
       "      <td>Electronics</td>\n",
       "      <td>16</td>\n",
       "      <td>[{'Company name': 'Scarlett', 'Company locatio...</td>\n",
       "      <td>[{'University': 'Belarussian State University'...</td>\n",
       "      <td>{'Russian': 'Native', 'English': 'Upper-Interm...</td>\n",
       "      <td>Not stated</td>\n",
       "      <td>[Customer service, Negotiation skills, Key acc...</td>\n",
       "    </tr>\n",
       "    <tr>\n",
       "      <th>22</th>\n",
       "      <td>23</td>\n",
       "      <td>Sales Manager</td>\n",
       "      <td>male</td>\n",
       "      <td>42</td>\n",
       "      <td>Russia, Moscow</td>\n",
       "      <td>80000</td>\n",
       "      <td>IT</td>\n",
       "      <td>5</td>\n",
       "      <td>[{'Company name': 'Isber', 'Company location':...</td>\n",
       "      <td>[{'University': 'Moscow Institute of Internati...</td>\n",
       "      <td>{'Russian': 'Native', 'English': 'Proficiency'...</td>\n",
       "      <td>[{'Course name': 'Guiding of commercial negoti...</td>\n",
       "      <td>[Sales Forecasting, Sales Management, Sales Pl...</td>\n",
       "    </tr>\n",
       "    <tr>\n",
       "      <th>23</th>\n",
       "      <td>24</td>\n",
       "      <td>Sales Manager</td>\n",
       "      <td>male</td>\n",
       "      <td>34</td>\n",
       "      <td>Russia, Moscow</td>\n",
       "      <td>110000</td>\n",
       "      <td>Retail</td>\n",
       "      <td>14</td>\n",
       "      <td>[{'Company name': 'FoodMaster - Lactalis group...</td>\n",
       "      <td>[{'University': 'City Business School', 'Educa...</td>\n",
       "      <td>{'Russian': 'Native', 'English': 'Intermediate'}</td>\n",
       "      <td>[{'Course name': 'Communication and influence'...</td>\n",
       "      <td>[Communication skills, Analytical skills, Nego...</td>\n",
       "    </tr>\n",
       "    <tr>\n",
       "      <th>24</th>\n",
       "      <td>25</td>\n",
       "      <td>Sales Manager</td>\n",
       "      <td>male</td>\n",
       "      <td>27</td>\n",
       "      <td>Russia, Moscow</td>\n",
       "      <td>100000</td>\n",
       "      <td>Auto</td>\n",
       "      <td>1</td>\n",
       "      <td>[{'Company name': 'Inchcape', 'Company locatio...</td>\n",
       "      <td>[{'University': 'Moscow Automobile and Road In...</td>\n",
       "      <td>{'Russian': 'Native', 'English': 'Upper-Interm...</td>\n",
       "      <td>[{'Course name': 'Communication and influence'...</td>\n",
       "      <td>[Customers service, Analytical skills, Negotia...</td>\n",
       "    </tr>\n",
       "    <tr>\n",
       "      <th>25</th>\n",
       "      <td>26</td>\n",
       "      <td>Sales Manager</td>\n",
       "      <td>male</td>\n",
       "      <td>35</td>\n",
       "      <td>Russia, Moscow</td>\n",
       "      <td>120000</td>\n",
       "      <td>Electronics</td>\n",
       "      <td>5</td>\n",
       "      <td>[{'Company name': 'LS Cable &amp; System Co Ltd.',...</td>\n",
       "      <td>[{'University': 'Kyung Hee University.', 'Educ...</td>\n",
       "      <td>{'Russian': 'Native', 'English': 'Proficiency'...</td>\n",
       "      <td>[{'Course name': 'Marketing Management', 'Educ...</td>\n",
       "      <td>[Negotiation skills, Leadership, Presentation ...</td>\n",
       "    </tr>\n",
       "    <tr>\n",
       "      <th>26</th>\n",
       "      <td>27</td>\n",
       "      <td>Sales Manager</td>\n",
       "      <td>female</td>\n",
       "      <td>32</td>\n",
       "      <td>Russia, Moscow</td>\n",
       "      <td>90000</td>\n",
       "      <td>Marketing</td>\n",
       "      <td>5</td>\n",
       "      <td>[{'Company name': 'The Moscow Times / Yoga Jou...</td>\n",
       "      <td>[{'University': 'Kursk State Agricultural Acad...</td>\n",
       "      <td>{'Russian': 'Native', 'English': 'Intermediate'}</td>\n",
       "      <td>Not stated</td>\n",
       "      <td>[Sales Forecasting, Sales Management, Sales Pl...</td>\n",
       "    </tr>\n",
       "    <tr>\n",
       "      <th>27</th>\n",
       "      <td>28</td>\n",
       "      <td>Sales Manager</td>\n",
       "      <td>female</td>\n",
       "      <td>31</td>\n",
       "      <td>Russia, Moscow</td>\n",
       "      <td>140000</td>\n",
       "      <td>IT</td>\n",
       "      <td>4</td>\n",
       "      <td>[{'Company name': 'Adwark', 'Company location'...</td>\n",
       "      <td>[{'University': 'Kuban State Academy of Physic...</td>\n",
       "      <td>{'Russian': 'Native', 'English': 'Beginner'}</td>\n",
       "      <td>Not stated</td>\n",
       "      <td>[Sales Forecasting, Sales Management, Sales Pl...</td>\n",
       "    </tr>\n",
       "    <tr>\n",
       "      <th>28</th>\n",
       "      <td>29</td>\n",
       "      <td>Sales Manager</td>\n",
       "      <td>male</td>\n",
       "      <td>43</td>\n",
       "      <td>Russia, Moscow</td>\n",
       "      <td>160000</td>\n",
       "      <td>Electronics</td>\n",
       "      <td>7</td>\n",
       "      <td>[{'Company name': 'CASIO LLC', 'Company locati...</td>\n",
       "      <td>[{'University': 'Rocket Forces Institute', 'Ed...</td>\n",
       "      <td>{'Russian': 'Native', 'English': 'Pre-Intermed...</td>\n",
       "      <td>[{'Course name': 'CASIO Annual Challenge 2012'...</td>\n",
       "      <td>[Sales Forecasting, Sales Management, Sales Pl...</td>\n",
       "    </tr>\n",
       "    <tr>\n",
       "      <th>29</th>\n",
       "      <td>30</td>\n",
       "      <td>Sales Manager</td>\n",
       "      <td>female</td>\n",
       "      <td>22</td>\n",
       "      <td>Russia, Moscow</td>\n",
       "      <td>50000</td>\n",
       "      <td>Marketing</td>\n",
       "      <td>0</td>\n",
       "      <td>[]</td>\n",
       "      <td>[{'University': 'Moscow State Pedagogical Univ...</td>\n",
       "      <td>{'Russian': 'Native', 'English': 'Intermediate'}</td>\n",
       "      <td>Not stated</td>\n",
       "      <td>[Active, Responsible, Presentation skills, Sal...</td>\n",
       "    </tr>\n",
       "    <tr>\n",
       "      <th>30</th>\n",
       "      <td>31</td>\n",
       "      <td>Sales Manager</td>\n",
       "      <td>male</td>\n",
       "      <td>42</td>\n",
       "      <td>Russia, Moscow</td>\n",
       "      <td>70000</td>\n",
       "      <td>Raw materials</td>\n",
       "      <td>3</td>\n",
       "      <td>[{'Company name': 'Allianz', 'Company location...</td>\n",
       "      <td>[{'University': 'Oxford Brookes University', '...</td>\n",
       "      <td>{'Russian': 'Native', 'English': 'Proficiency'...</td>\n",
       "      <td>[{'Course name': 'Sales Management', 'Educatio...</td>\n",
       "      <td>[Negotiation skills, Sales Management, B2B, Ke...</td>\n",
       "    </tr>\n",
       "    <tr>\n",
       "      <th>31</th>\n",
       "      <td>32</td>\n",
       "      <td>Sales Manager</td>\n",
       "      <td>female</td>\n",
       "      <td>43</td>\n",
       "      <td>Russia, Moscow</td>\n",
       "      <td>180000</td>\n",
       "      <td>IT</td>\n",
       "      <td>11</td>\n",
       "      <td>[{'Company name': 'Orange Business Services', ...</td>\n",
       "      <td>[{'University': 'The State Academy of Plekhano...</td>\n",
       "      <td>{'Russian': 'Native', 'English': 'Proficiency'...</td>\n",
       "      <td>[{'Course name': 'Account management telecommu...</td>\n",
       "      <td>[Communication skills, Sales Management, Sales...</td>\n",
       "    </tr>\n",
       "    <tr>\n",
       "      <th>32</th>\n",
       "      <td>33</td>\n",
       "      <td>Sales Manager</td>\n",
       "      <td>male</td>\n",
       "      <td>23</td>\n",
       "      <td>Russia, Moscow</td>\n",
       "      <td>65000</td>\n",
       "      <td>IT</td>\n",
       "      <td>2</td>\n",
       "      <td>[{'Company name': 'TTK', 'Company location': '...</td>\n",
       "      <td>[{'University': 'Ural State University', 'Educ...</td>\n",
       "      <td>{'Russian': 'Native', 'English': 'Intermediate...</td>\n",
       "      <td>[{'Course name': 'Technology of sales', 'Educa...</td>\n",
       "      <td>[Cold calls, Sales Management, Customer relati...</td>\n",
       "    </tr>\n",
       "    <tr>\n",
       "      <th>33</th>\n",
       "      <td>34</td>\n",
       "      <td>Sales Manager</td>\n",
       "      <td>female</td>\n",
       "      <td>27</td>\n",
       "      <td>Russia, Moscow</td>\n",
       "      <td>100000</td>\n",
       "      <td>Marketing</td>\n",
       "      <td>6</td>\n",
       "      <td>[{'Company name': 'Madtec', 'Company location'...</td>\n",
       "      <td>[{'University': 'The State Academy of Plekhano...</td>\n",
       "      <td>{'Russian': 'Native', 'English': 'Upper-Interm...</td>\n",
       "      <td>[{'Course name': 'Guiding of commercial negoti...</td>\n",
       "      <td>[Project management, Sales Management, Present...</td>\n",
       "    </tr>\n",
       "    <tr>\n",
       "      <th>34</th>\n",
       "      <td>35</td>\n",
       "      <td>Sales Manager</td>\n",
       "      <td>male</td>\n",
       "      <td>44</td>\n",
       "      <td>Russia, Moscow</td>\n",
       "      <td>150000</td>\n",
       "      <td>Health care</td>\n",
       "      <td>15</td>\n",
       "      <td>[{'Company name': 'Thermo Fisher Scientific', ...</td>\n",
       "      <td>[{'University': 'Lobachevsky State University'...</td>\n",
       "      <td>{'Russian': 'Native', 'English': 'Intermediate'}</td>\n",
       "      <td>Not stated</td>\n",
       "      <td>[Sales Forecasting, Sales Management, Sales Pl...</td>\n",
       "    </tr>\n",
       "    <tr>\n",
       "      <th>35</th>\n",
       "      <td>36</td>\n",
       "      <td>Sales Manager</td>\n",
       "      <td>male</td>\n",
       "      <td>24</td>\n",
       "      <td>Russia, Moscow</td>\n",
       "      <td>75000</td>\n",
       "      <td>Retail</td>\n",
       "      <td>1</td>\n",
       "      <td>[{'Company name': 'Procter&amp;Gamble', 'Company l...</td>\n",
       "      <td>[{'University': 'Pacific State University', 'E...</td>\n",
       "      <td>{'Russian': 'Native', 'English': 'Beginner'}</td>\n",
       "      <td>Not stated</td>\n",
       "      <td>[Account management, Communication skills, Sal...</td>\n",
       "    </tr>\n",
       "    <tr>\n",
       "      <th>36</th>\n",
       "      <td>37</td>\n",
       "      <td>Sales Manager</td>\n",
       "      <td>female</td>\n",
       "      <td>41</td>\n",
       "      <td>Russia, Moscow</td>\n",
       "      <td>100000</td>\n",
       "      <td>Tourism</td>\n",
       "      <td>16</td>\n",
       "      <td>[{'Company name': 'Travelport International Se...</td>\n",
       "      <td>[{'University': 'Moscow Financial and Industri...</td>\n",
       "      <td>{'Russian': 'Native', 'English': 'Advanced'}</td>\n",
       "      <td>[{'Course name': 'Elite Account Management', '...</td>\n",
       "      <td>[Sales Forecasting, Sales Management, Sales Pl...</td>\n",
       "    </tr>\n",
       "    <tr>\n",
       "      <th>37</th>\n",
       "      <td>38</td>\n",
       "      <td>Sales Manager</td>\n",
       "      <td>male</td>\n",
       "      <td>22</td>\n",
       "      <td>Russia, Moscow</td>\n",
       "      <td>50000</td>\n",
       "      <td>Retail</td>\n",
       "      <td>3</td>\n",
       "      <td>[{'Company name': 'Istera', 'Company location'...</td>\n",
       "      <td>[{'University': 'Moscow Humanitarian Technical...</td>\n",
       "      <td>{'Russian': 'Native', 'English': 'Elementary',...</td>\n",
       "      <td>[{'Course name': 'Guiding of commercial negoti...</td>\n",
       "      <td>[Active sales, Customer service, Sales Plannin...</td>\n",
       "    </tr>\n",
       "    <tr>\n",
       "      <th>38</th>\n",
       "      <td>39</td>\n",
       "      <td>Sales Manager</td>\n",
       "      <td>male</td>\n",
       "      <td>48</td>\n",
       "      <td>Russia, Moscow</td>\n",
       "      <td>160000</td>\n",
       "      <td>Health care</td>\n",
       "      <td>11</td>\n",
       "      <td>[{'Company name': 'STORMOFF N.R.W. GmbH', 'Com...</td>\n",
       "      <td>[{'University': 'Institute of virology', 'Educ...</td>\n",
       "      <td>{'Russian': 'Native', 'English': 'Advanced'}</td>\n",
       "      <td>Not stated</td>\n",
       "      <td>[Sales Forecasting, Sales Management, Sales Pl...</td>\n",
       "    </tr>\n",
       "    <tr>\n",
       "      <th>39</th>\n",
       "      <td>40</td>\n",
       "      <td>Sales Manager</td>\n",
       "      <td>female</td>\n",
       "      <td>23</td>\n",
       "      <td>Russia, Moscow</td>\n",
       "      <td>80000</td>\n",
       "      <td>Retail</td>\n",
       "      <td>2</td>\n",
       "      <td>[{'Company name': 'Beauty instrument', 'Compan...</td>\n",
       "      <td>[{'University': 'Moscow Financial and Industri...</td>\n",
       "      <td>{'Russian': 'Native', 'English': 'Beginner'}</td>\n",
       "      <td>Not stated</td>\n",
       "      <td>[Telemarketing, Communication skills, Customer...</td>\n",
       "    </tr>\n",
       "    <tr>\n",
       "      <th>40</th>\n",
       "      <td>41</td>\n",
       "      <td>Sales Manager</td>\n",
       "      <td>male</td>\n",
       "      <td>41</td>\n",
       "      <td>Russia, Moscow</td>\n",
       "      <td>120000</td>\n",
       "      <td>IT</td>\n",
       "      <td>16</td>\n",
       "      <td>[{'Company name': 'Thomson Reuters', 'Company ...</td>\n",
       "      <td>[{'University': 'Tver State University', 'Educ...</td>\n",
       "      <td>{'Russian': 'Native', 'English': 'Advanced'}</td>\n",
       "      <td>Not stated</td>\n",
       "      <td>[Sales Forecasting, Sales Management, Sales Pl...</td>\n",
       "    </tr>\n",
       "    <tr>\n",
       "      <th>41</th>\n",
       "      <td>42</td>\n",
       "      <td>Sales Manager</td>\n",
       "      <td>male</td>\n",
       "      <td>36</td>\n",
       "      <td>Russia, Moscow</td>\n",
       "      <td>130000</td>\n",
       "      <td>Retail</td>\n",
       "      <td>9</td>\n",
       "      <td>[{'Company name': ''ASIA IMPORT' LLC', 'Compan...</td>\n",
       "      <td>[{'University': 'Russian State Social Universi...</td>\n",
       "      <td>{'Russian': 'Native', 'English': 'Proficiency'...</td>\n",
       "      <td>[{'Course name': 'Gap Partnership', 'Education...</td>\n",
       "      <td>[Sales Forecasting, Analytical skills, Sales P...</td>\n",
       "    </tr>\n",
       "    <tr>\n",
       "      <th>42</th>\n",
       "      <td>43</td>\n",
       "      <td>Sales Manager</td>\n",
       "      <td>female</td>\n",
       "      <td>36</td>\n",
       "      <td>Russia, Moscow</td>\n",
       "      <td>95000</td>\n",
       "      <td>Retail</td>\n",
       "      <td>10</td>\n",
       "      <td>[{'Company name': 'PEPSICO', 'Company location...</td>\n",
       "      <td>[{'University': 'Ural State University of Econ...</td>\n",
       "      <td>{'Russian': 'Native', 'English': 'Advanced'}</td>\n",
       "      <td>Not stated</td>\n",
       "      <td>[Customer service, Sales Management, Sales Pla...</td>\n",
       "    </tr>\n",
       "    <tr>\n",
       "      <th>43</th>\n",
       "      <td>44</td>\n",
       "      <td>Sales Manager</td>\n",
       "      <td>female</td>\n",
       "      <td>29</td>\n",
       "      <td>Russia, Moscow</td>\n",
       "      <td>80000</td>\n",
       "      <td>Retail</td>\n",
       "      <td>5</td>\n",
       "      <td>[{'Company name': '`WILD RUSSIA' LLC', 'Compan...</td>\n",
       "      <td>[{'University': 'Institute of Business and Des...</td>\n",
       "      <td>{'Russian': 'Native', 'English': 'Intermediate'}</td>\n",
       "      <td>Not stated</td>\n",
       "      <td>[Communication skills, Sales Management, Negot...</td>\n",
       "    </tr>\n",
       "    <tr>\n",
       "      <th>44</th>\n",
       "      <td>45</td>\n",
       "      <td>Sales Manager</td>\n",
       "      <td>male</td>\n",
       "      <td>29</td>\n",
       "      <td>Russia, Moscow</td>\n",
       "      <td>100000</td>\n",
       "      <td>Tourism</td>\n",
       "      <td>2</td>\n",
       "      <td>[{'Company name': 'Park Inn by Radisson Odints...</td>\n",
       "      <td>[{'University': 'Russian International Academy...</td>\n",
       "      <td>{'Russian': 'Native', 'English': 'Advanced'}</td>\n",
       "      <td>Not stated</td>\n",
       "      <td>[CRM, Sales Management, Team work, Sales Skills]</td>\n",
       "    </tr>\n",
       "    <tr>\n",
       "      <th>45</th>\n",
       "      <td>46</td>\n",
       "      <td>Sales Manager</td>\n",
       "      <td>female</td>\n",
       "      <td>26</td>\n",
       "      <td>Russia, Moscow</td>\n",
       "      <td>75000</td>\n",
       "      <td>Tourism</td>\n",
       "      <td>2</td>\n",
       "      <td>[{'Company name': 'Inside Service LLC', 'Compa...</td>\n",
       "      <td>[{'University': 'Moscow university for the hum...</td>\n",
       "      <td>{'Russian': 'Native', 'English': 'Intermediate'}</td>\n",
       "      <td>Not stated</td>\n",
       "      <td>[Customer service, Sales Management, Team work...</td>\n",
       "    </tr>\n",
       "    <tr>\n",
       "      <th>46</th>\n",
       "      <td>47</td>\n",
       "      <td>Sales Manager</td>\n",
       "      <td>female</td>\n",
       "      <td>28</td>\n",
       "      <td>Russia, Moscow</td>\n",
       "      <td>75000</td>\n",
       "      <td>Tourism</td>\n",
       "      <td>3</td>\n",
       "      <td>[{'Company name': 'Foresta Festival Park Hotel...</td>\n",
       "      <td>[{'University': 'Institute of International Bu...</td>\n",
       "      <td>{'Russian': 'Native', 'English': 'Upper-Interm...</td>\n",
       "      <td>Not stated</td>\n",
       "      <td>[Customer service, Sales Management, Team work...</td>\n",
       "    </tr>\n",
       "    <tr>\n",
       "      <th>47</th>\n",
       "      <td>48</td>\n",
       "      <td>Sales Manager</td>\n",
       "      <td>female</td>\n",
       "      <td>23</td>\n",
       "      <td>Russia, Moscow</td>\n",
       "      <td>65000</td>\n",
       "      <td>Tourism</td>\n",
       "      <td>1</td>\n",
       "      <td>[{'Company name': 'IBC Corporate Travel', 'Com...</td>\n",
       "      <td>[{'University': 'Moscow International Higher B...</td>\n",
       "      <td>{'Russian': 'Native', 'English': 'Beginner'}</td>\n",
       "      <td>Not stated</td>\n",
       "      <td>[Customer service, Sales Management, Team work...</td>\n",
       "    </tr>\n",
       "    <tr>\n",
       "      <th>48</th>\n",
       "      <td>49</td>\n",
       "      <td>Sales Manager</td>\n",
       "      <td>female</td>\n",
       "      <td>24</td>\n",
       "      <td>Russia, Moscow</td>\n",
       "      <td>60000</td>\n",
       "      <td>Tourism</td>\n",
       "      <td>1</td>\n",
       "      <td>[{'Company name': 'INTURAERO', 'Company locati...</td>\n",
       "      <td>[{'University': 'Moscow International Higher B...</td>\n",
       "      <td>{'Russian': 'Native', 'English': 'Beginner'}</td>\n",
       "      <td>Not stated</td>\n",
       "      <td>[Customer service, Sales Management, Team work...</td>\n",
       "    </tr>\n",
       "    <tr>\n",
       "      <th>49</th>\n",
       "      <td>50</td>\n",
       "      <td>Sales Manager</td>\n",
       "      <td>male</td>\n",
       "      <td>24</td>\n",
       "      <td>Russia, Moscow</td>\n",
       "      <td>70000</td>\n",
       "      <td>Tourism</td>\n",
       "      <td>1</td>\n",
       "      <td>[{'Company name': 'Best Western VEGA Hotel &amp; C...</td>\n",
       "      <td>[{'University': 'Russian International Academy...</td>\n",
       "      <td>{'Russian': 'Native', 'English': 'Intermediate'}</td>\n",
       "      <td>Not stated</td>\n",
       "      <td>[Customer service, Sales Management, Team work...</td>\n",
       "    </tr>\n",
       "    <tr>\n",
       "      <th>50</th>\n",
       "      <td>51</td>\n",
       "      <td>Sales Manager</td>\n",
       "      <td>male</td>\n",
       "      <td>29</td>\n",
       "      <td>Russia, Moscow</td>\n",
       "      <td>95000</td>\n",
       "      <td>Marketing</td>\n",
       "      <td>4</td>\n",
       "      <td>[{'Company name': 'LLC Bright Print', 'Company...</td>\n",
       "      <td>[{'University': 'Moscow State University of Ge...</td>\n",
       "      <td>{'Russian': 'Native', 'English': 'Upper-Interm...</td>\n",
       "      <td>Not stated</td>\n",
       "      <td>[Sales Forecasting, Sales Management, Sales Pl...</td>\n",
       "    </tr>\n",
       "    <tr>\n",
       "      <th>51</th>\n",
       "      <td>52</td>\n",
       "      <td>Sales Manager</td>\n",
       "      <td>female</td>\n",
       "      <td>29</td>\n",
       "      <td>Russia, Moscow</td>\n",
       "      <td>80000</td>\n",
       "      <td>Marketing</td>\n",
       "      <td>4</td>\n",
       "      <td>[{'Company name': 'LLC Awardscraft', 'Company ...</td>\n",
       "      <td>[{'University': 'Moscow Institute of Public Ad...</td>\n",
       "      <td>{'Russian': 'Native', 'English': 'Intermediate'}</td>\n",
       "      <td>Not stated</td>\n",
       "      <td>[Sales Forecasting, Sales Management, Sales Pl...</td>\n",
       "    </tr>\n",
       "    <tr>\n",
       "      <th>52</th>\n",
       "      <td>53</td>\n",
       "      <td>Sales Manager</td>\n",
       "      <td>female</td>\n",
       "      <td>30</td>\n",
       "      <td>Russia, Moscow</td>\n",
       "      <td>80000</td>\n",
       "      <td>Retail</td>\n",
       "      <td>5</td>\n",
       "      <td>[{'Company name': 'SCA Hygiene Products Russia...</td>\n",
       "      <td>[{'University': 'Pforzheim Hochschule', 'Educa...</td>\n",
       "      <td>{'Russian': 'Native', 'English': 'Advanced', '...</td>\n",
       "      <td>Not stated</td>\n",
       "      <td>[Sales Forecasting, Sales Management, Sales Pl...</td>\n",
       "    </tr>\n",
       "    <tr>\n",
       "      <th>53</th>\n",
       "      <td>54</td>\n",
       "      <td>Sales Manager</td>\n",
       "      <td>male</td>\n",
       "      <td>30</td>\n",
       "      <td>Russia, Moscow</td>\n",
       "      <td>110000</td>\n",
       "      <td>Retail</td>\n",
       "      <td>5</td>\n",
       "      <td>[{'Company name': 'Pernod Ricard Rouss', 'Comp...</td>\n",
       "      <td>[{'University': 'State University of Managemen...</td>\n",
       "      <td>{'Russian': 'Native', 'English': 'Advanced'}</td>\n",
       "      <td>Not stated</td>\n",
       "      <td>[Sales Forecasting, Sales Management, Sales Pl...</td>\n",
       "    </tr>\n",
       "    <tr>\n",
       "      <th>54</th>\n",
       "      <td>55</td>\n",
       "      <td>Sales Manager</td>\n",
       "      <td>male</td>\n",
       "      <td>31</td>\n",
       "      <td>Russia, Moscow</td>\n",
       "      <td>100000</td>\n",
       "      <td>Retail</td>\n",
       "      <td>6</td>\n",
       "      <td>[{'Company name': 'Danone-Unimilk', 'Company l...</td>\n",
       "      <td>[{'University': 'New Economic School', 'Educat...</td>\n",
       "      <td>{'Russian': 'Native', 'English': 'Advanced', '...</td>\n",
       "      <td>Not stated</td>\n",
       "      <td>[Sales Forecasting, Sales Management, Sales Pl...</td>\n",
       "    </tr>\n",
       "    <tr>\n",
       "      <th>55</th>\n",
       "      <td>56</td>\n",
       "      <td>Sales Manager</td>\n",
       "      <td>male</td>\n",
       "      <td>22</td>\n",
       "      <td>Russia, Moscow</td>\n",
       "      <td>55000</td>\n",
       "      <td>Marketing</td>\n",
       "      <td>0</td>\n",
       "      <td>[]</td>\n",
       "      <td>[{'University': 'Moscow International Higher B...</td>\n",
       "      <td>{'Russian': 'Native', 'English': 'Intermediate...</td>\n",
       "      <td>Not stated</td>\n",
       "      <td>[Active, Responsible, Presentation skills, Ana...</td>\n",
       "    </tr>\n",
       "    <tr>\n",
       "      <th>56</th>\n",
       "      <td>57</td>\n",
       "      <td>Sales Manager</td>\n",
       "      <td>female</td>\n",
       "      <td>21</td>\n",
       "      <td>Russia, Moscow</td>\n",
       "      <td>50000</td>\n",
       "      <td>Tourism</td>\n",
       "      <td>0</td>\n",
       "      <td>[]</td>\n",
       "      <td>[{'University': 'Russian State University of T...</td>\n",
       "      <td>{'Russian': 'Native', 'English': 'Upper-Interm...</td>\n",
       "      <td>Not stated</td>\n",
       "      <td>[Active, Responsible, Presentation skills, Ana...</td>\n",
       "    </tr>\n",
       "    <tr>\n",
       "      <th>57</th>\n",
       "      <td>58</td>\n",
       "      <td>Sales Manager</td>\n",
       "      <td>female</td>\n",
       "      <td>20</td>\n",
       "      <td>Russia, Moscow</td>\n",
       "      <td>45000</td>\n",
       "      <td>Retail</td>\n",
       "      <td>0</td>\n",
       "      <td>[]</td>\n",
       "      <td>[{'University': 'Moscow State University of Fo...</td>\n",
       "      <td>{'Russian': 'Native', 'English': 'Intermediate'}</td>\n",
       "      <td>Not stated</td>\n",
       "      <td>[Active, Responsible, Presentation skills, Ana...</td>\n",
       "    </tr>\n",
       "    <tr>\n",
       "      <th>58</th>\n",
       "      <td>59</td>\n",
       "      <td>Sales Manager</td>\n",
       "      <td>female</td>\n",
       "      <td>25</td>\n",
       "      <td>Russia, Moscow</td>\n",
       "      <td>75000</td>\n",
       "      <td>Marketing</td>\n",
       "      <td>2</td>\n",
       "      <td>[{'Company name': 'Rolf', 'Company location': ...</td>\n",
       "      <td>[{'University': 'Moscow International Universi...</td>\n",
       "      <td>{'Russian': 'Native', 'English': 'Advanced'}</td>\n",
       "      <td>Not sated</td>\n",
       "      <td>[Customer service, Sales Management, Presentat...</td>\n",
       "    </tr>\n",
       "    <tr>\n",
       "      <th>59</th>\n",
       "      <td>60</td>\n",
       "      <td>Sales Manager</td>\n",
       "      <td>male</td>\n",
       "      <td>27</td>\n",
       "      <td>Russia, Moscow</td>\n",
       "      <td>90000</td>\n",
       "      <td>Marketing</td>\n",
       "      <td>5</td>\n",
       "      <td>[{'Company name': '20 Centure Fox / Disney', '...</td>\n",
       "      <td>[{'University': 'Novosibirsk State Technical U...</td>\n",
       "      <td>{'Russian': 'Native', 'English': 'Intermediate'}</td>\n",
       "      <td>Not stated</td>\n",
       "      <td>[Presentation skills, Sales Management, Custom...</td>\n",
       "    </tr>\n",
       "    <tr>\n",
       "      <th>60</th>\n",
       "      <td>61</td>\n",
       "      <td>Sales Manager</td>\n",
       "      <td>female</td>\n",
       "      <td>25</td>\n",
       "      <td>Russia, Moscow</td>\n",
       "      <td>110000</td>\n",
       "      <td>Marketing</td>\n",
       "      <td>3</td>\n",
       "      <td>[{'Company name': 'WPP', 'Company location': '...</td>\n",
       "      <td>[{'University': 'Russian State Social Universi...</td>\n",
       "      <td>{'Russian': 'Native', 'English': 'Upper-Interm...</td>\n",
       "      <td>Not stated</td>\n",
       "      <td>[Communication skills, Sales Management, Sales...</td>\n",
       "    </tr>\n",
       "    <tr>\n",
       "      <th>61</th>\n",
       "      <td>62</td>\n",
       "      <td>Sales Manager</td>\n",
       "      <td>male</td>\n",
       "      <td>24</td>\n",
       "      <td>Russia, Moscow</td>\n",
       "      <td>50000</td>\n",
       "      <td>Tourism</td>\n",
       "      <td>2</td>\n",
       "      <td>[{'Company name': 'Maxima Hotels', 'Company lo...</td>\n",
       "      <td>[{'University': 'Modern University for the Hum...</td>\n",
       "      <td>{'Russian': 'Native', 'English': 'Proficiency'...</td>\n",
       "      <td>[{'Course name': 'General English - Advanced l...</td>\n",
       "      <td>[Communication skills, Sales Management, Custo...</td>\n",
       "    </tr>\n",
       "    <tr>\n",
       "      <th>62</th>\n",
       "      <td>63</td>\n",
       "      <td>Sales Manager</td>\n",
       "      <td>male</td>\n",
       "      <td>30</td>\n",
       "      <td>Russia, Moscow</td>\n",
       "      <td>130000</td>\n",
       "      <td>Auto</td>\n",
       "      <td>4</td>\n",
       "      <td>[{'Company name': 'Inchcape Hyundai. British i...</td>\n",
       "      <td>[{'University': 'National Transport University...</td>\n",
       "      <td>{'Russian': 'Native', 'English': 'Upper-Interm...</td>\n",
       "      <td>[{'Course name': 'Hyundai smart sense system',...</td>\n",
       "      <td>[Sales Forecasting, Sales Management, Sales Pl...</td>\n",
       "    </tr>\n",
       "    <tr>\n",
       "      <th>63</th>\n",
       "      <td>64</td>\n",
       "      <td>Sales Manager</td>\n",
       "      <td>male</td>\n",
       "      <td>43</td>\n",
       "      <td>Russia, Moscow</td>\n",
       "      <td>150000</td>\n",
       "      <td>Health care</td>\n",
       "      <td>12</td>\n",
       "      <td>[{'Company name': 'Terumo BCT', 'Company locat...</td>\n",
       "      <td>[{'University': 'International business school...</td>\n",
       "      <td>{'Russian': 'Native', 'English': 'Proficiency'...</td>\n",
       "      <td>Not stated</td>\n",
       "      <td>[Sales Forecasting, Sales Management, Sales Pl...</td>\n",
       "    </tr>\n",
       "    <tr>\n",
       "      <th>64</th>\n",
       "      <td>65</td>\n",
       "      <td>Sales Manager</td>\n",
       "      <td>male</td>\n",
       "      <td>27</td>\n",
       "      <td>Russia, Moscow</td>\n",
       "      <td>89000</td>\n",
       "      <td>Health care</td>\n",
       "      <td>2</td>\n",
       "      <td>[{'Company name': 'STADA group', 'Company loca...</td>\n",
       "      <td>[{'University': 'Moscow Medical Academy of M.I...</td>\n",
       "      <td>{'Russian': 'Native', 'English': 'Intermediate'}</td>\n",
       "      <td>Not stated</td>\n",
       "      <td>[Customer service, Social work, Communication ...</td>\n",
       "    </tr>\n",
       "    <tr>\n",
       "      <th>65</th>\n",
       "      <td>66</td>\n",
       "      <td>Sales Manager</td>\n",
       "      <td>male</td>\n",
       "      <td>42</td>\n",
       "      <td>Russia, Moscow</td>\n",
       "      <td>160000</td>\n",
       "      <td>Health care</td>\n",
       "      <td>7</td>\n",
       "      <td>[{'Company name': 'Gemotest', 'Company locatio...</td>\n",
       "      <td>[{'University': 'Altai State University', 'Edu...</td>\n",
       "      <td>{'Russian': 'Native', 'English': 'Intermediate'}</td>\n",
       "      <td>[{'Course name': 'Low Intermediate', 'Educatio...</td>\n",
       "      <td>[Sales Forecasting, Sales Management, Sales Pl...</td>\n",
       "    </tr>\n",
       "  </tbody>\n",
       "</table>\n",
       "</div>"
      ],
      "text/plain": [
       "    id      Job title  Gender  Age                  Location  \\\n",
       "0    1  Sales Manager    male   40            Russia, Moscow   \n",
       "1    2  Sales Manager    male   31            Russia, Moscow   \n",
       "2    3  Sales Manager  female   31            Russia, Moscow   \n",
       "3    4  Sales Manager  female   23            Russia, Moscow   \n",
       "4    5  Sales Manager    male   25            Russia, Moscow   \n",
       "5    6  Sales Manager  female   29            Russia, Moscow   \n",
       "6    7  Sales Manager    male   29            Russia, Moscow   \n",
       "7    8  Sales Manager    male   35            Russia, Moscow   \n",
       "8    9  Sales Manager  female   35            Russia, Moscow   \n",
       "9   10  Sales Manager    male   30            Russia, Moscow   \n",
       "10  11  Sales Manager    male   37  Russia, Saint Petersburg   \n",
       "11  12  Sales Manager  female   36            Russia, Moscow   \n",
       "12  13  Sales Manager    male   26            Russia, Moscow   \n",
       "13  14  Sales Manager  female   25            Russia, Moscow   \n",
       "14  15  Sales Manager    male   30            Russia, Moscow   \n",
       "15  16  Sales Manager  female   28            Russia, Moscow   \n",
       "16  17  Sales Manager    male   37            Russia, Moscow   \n",
       "17  18  Sales Manager  female   40            Russia, Moscow   \n",
       "18  19  Sales Manager  female   31            Russia, Moscow   \n",
       "19  20  Sales Manager    male   34            Russia, Moscow   \n",
       "20  21  Sales Manager    male   37            Russia, Moscow   \n",
       "21  22  Sales Manager    male   42            Russia, Moscow   \n",
       "22  23  Sales Manager    male   42            Russia, Moscow   \n",
       "23  24  Sales Manager    male   34            Russia, Moscow   \n",
       "24  25  Sales Manager    male   27            Russia, Moscow   \n",
       "25  26  Sales Manager    male   35            Russia, Moscow   \n",
       "26  27  Sales Manager  female   32            Russia, Moscow   \n",
       "27  28  Sales Manager  female   31            Russia, Moscow   \n",
       "28  29  Sales Manager    male   43            Russia, Moscow   \n",
       "29  30  Sales Manager  female   22            Russia, Moscow   \n",
       "30  31  Sales Manager    male   42            Russia, Moscow   \n",
       "31  32  Sales Manager  female   43            Russia, Moscow   \n",
       "32  33  Sales Manager    male   23            Russia, Moscow   \n",
       "33  34  Sales Manager  female   27            Russia, Moscow   \n",
       "34  35  Sales Manager    male   44            Russia, Moscow   \n",
       "35  36  Sales Manager    male   24            Russia, Moscow   \n",
       "36  37  Sales Manager  female   41            Russia, Moscow   \n",
       "37  38  Sales Manager    male   22            Russia, Moscow   \n",
       "38  39  Sales Manager    male   48            Russia, Moscow   \n",
       "39  40  Sales Manager  female   23            Russia, Moscow   \n",
       "40  41  Sales Manager    male   41            Russia, Moscow   \n",
       "41  42  Sales Manager    male   36            Russia, Moscow   \n",
       "42  43  Sales Manager  female   36            Russia, Moscow   \n",
       "43  44  Sales Manager  female   29            Russia, Moscow   \n",
       "44  45  Sales Manager    male   29            Russia, Moscow   \n",
       "45  46  Sales Manager  female   26            Russia, Moscow   \n",
       "46  47  Sales Manager  female   28            Russia, Moscow   \n",
       "47  48  Sales Manager  female   23            Russia, Moscow   \n",
       "48  49  Sales Manager  female   24            Russia, Moscow   \n",
       "49  50  Sales Manager    male   24            Russia, Moscow   \n",
       "50  51  Sales Manager    male   29            Russia, Moscow   \n",
       "51  52  Sales Manager  female   29            Russia, Moscow   \n",
       "52  53  Sales Manager  female   30            Russia, Moscow   \n",
       "53  54  Sales Manager    male   30            Russia, Moscow   \n",
       "54  55  Sales Manager    male   31            Russia, Moscow   \n",
       "55  56  Sales Manager    male   22            Russia, Moscow   \n",
       "56  57  Sales Manager  female   21            Russia, Moscow   \n",
       "57  58  Sales Manager  female   20            Russia, Moscow   \n",
       "58  59  Sales Manager  female   25            Russia, Moscow   \n",
       "59  60  Sales Manager    male   27            Russia, Moscow   \n",
       "60  61  Sales Manager  female   25            Russia, Moscow   \n",
       "61  62  Sales Manager    male   24            Russia, Moscow   \n",
       "62  63  Sales Manager    male   30            Russia, Moscow   \n",
       "63  64  Sales Manager    male   43            Russia, Moscow   \n",
       "64  65  Sales Manager    male   27            Russia, Moscow   \n",
       "65  66  Sales Manager    male   42            Russia, Moscow   \n",
       "\n",
       "    Desired wage, RUB           Area  Total work experience, years  \\\n",
       "0              120000  Raw materials                            17   \n",
       "1               80000        Tourism                             8   \n",
       "2              100000             IT                            13   \n",
       "3              100000      Marketing                             4   \n",
       "4               70000        Tourism                             3   \n",
       "5              130000      Marketing                             8   \n",
       "6               80000             IT                             3   \n",
       "7              170000             IT                             7   \n",
       "8              120000     Consulting                            16   \n",
       "9               90000         Retail                             8   \n",
       "10              85000    Electronics                             3   \n",
       "11              80000             IT                             8   \n",
       "12              90000         Retail                             4   \n",
       "13              60000             IT                             2   \n",
       "14              90000    Health care                             4   \n",
       "15              80000      Marketing                             2   \n",
       "16             100000    Electronics                             4   \n",
       "17              80000    Electronics                             5   \n",
       "18              75000         Retail                             8   \n",
       "19             100000     Consulting                             7   \n",
       "20             110000           Auto                             9   \n",
       "21             150000    Electronics                            16   \n",
       "22              80000             IT                             5   \n",
       "23             110000         Retail                            14   \n",
       "24             100000           Auto                             1   \n",
       "25             120000    Electronics                             5   \n",
       "26              90000      Marketing                             5   \n",
       "27             140000             IT                             4   \n",
       "28             160000    Electronics                             7   \n",
       "29              50000      Marketing                             0   \n",
       "30              70000  Raw materials                             3   \n",
       "31             180000             IT                            11   \n",
       "32              65000             IT                             2   \n",
       "33             100000      Marketing                             6   \n",
       "34             150000    Health care                            15   \n",
       "35              75000         Retail                             1   \n",
       "36             100000        Tourism                            16   \n",
       "37              50000         Retail                             3   \n",
       "38             160000    Health care                            11   \n",
       "39              80000         Retail                             2   \n",
       "40             120000             IT                            16   \n",
       "41             130000         Retail                             9   \n",
       "42              95000         Retail                            10   \n",
       "43              80000         Retail                             5   \n",
       "44             100000        Tourism                             2   \n",
       "45              75000        Tourism                             2   \n",
       "46              75000        Tourism                             3   \n",
       "47              65000        Tourism                             1   \n",
       "48              60000        Tourism                             1   \n",
       "49              70000        Tourism                             1   \n",
       "50              95000      Marketing                             4   \n",
       "51              80000      Marketing                             4   \n",
       "52              80000         Retail                             5   \n",
       "53             110000         Retail                             5   \n",
       "54             100000         Retail                             6   \n",
       "55              55000      Marketing                             0   \n",
       "56              50000        Tourism                             0   \n",
       "57              45000         Retail                             0   \n",
       "58              75000      Marketing                             2   \n",
       "59              90000      Marketing                             5   \n",
       "60             110000      Marketing                             3   \n",
       "61              50000        Tourism                             2   \n",
       "62             130000           Auto                             4   \n",
       "63             150000    Health care                            12   \n",
       "64              89000    Health care                             2   \n",
       "65             160000    Health care                             7   \n",
       "\n",
       "                                      Work experience  \\\n",
       "0   [{'Company name': 'Saint-Gobain Perfomance Pla...   \n",
       "1   [{'Company name': 'Holiday Inn Moscow Lesnaya'...   \n",
       "2   [{'Company name': 'Center Сomputer Accounting'...   \n",
       "3   [{'Company name': 'SP Group', 'Company locatio...   \n",
       "4   [{'Company name': 'RateHawk.com', 'Company loc...   \n",
       "5   [{'Company name': 'Firmenich LLC', 'Company lo...   \n",
       "6   [{'Company name': 'SilverBulleters, LLC', 'Com...   \n",
       "7   [{'Company name': 'Bentley Systems Russia & CI...   \n",
       "8   [{'Company name': 'Intalev consulting company'...   \n",
       "9   [{'Company name': 'Philips', 'Company location...   \n",
       "10  [{'Company name': 'Siemens', 'Company location...   \n",
       "11  [{'Company name': 'Omnicomm', 'Company locatio...   \n",
       "12  [{'Company name': 'Royal Canin', 'Company loca...   \n",
       "13  [{'Company name': 'Netwell', 'Company location...   \n",
       "14  [{'Company name': 'Ruskhimset', 'Company locat...   \n",
       "15  [{'Company name': 'MAKESPACE DEVELOPMENT', 'Co...   \n",
       "16  [{'Company name': 'Coral Travel (authorized ag...   \n",
       "17  [{'Company name': 'The Сenter for Strategic De...   \n",
       "18  [{'Company name': 'StudyLab', 'Company locatio...   \n",
       "19  [{'Company name': 'Reed Exhibitions', 'Company...   \n",
       "20  [{'Company name': 'Ford Sollers Holding LLC', ...   \n",
       "21  [{'Company name': 'Scarlett', 'Company locatio...   \n",
       "22  [{'Company name': 'Isber', 'Company location':...   \n",
       "23  [{'Company name': 'FoodMaster - Lactalis group...   \n",
       "24  [{'Company name': 'Inchcape', 'Company locatio...   \n",
       "25  [{'Company name': 'LS Cable & System Co Ltd.',...   \n",
       "26  [{'Company name': 'The Moscow Times / Yoga Jou...   \n",
       "27  [{'Company name': 'Adwark', 'Company location'...   \n",
       "28  [{'Company name': 'CASIO LLC', 'Company locati...   \n",
       "29                                                 []   \n",
       "30  [{'Company name': 'Allianz', 'Company location...   \n",
       "31  [{'Company name': 'Orange Business Services', ...   \n",
       "32  [{'Company name': 'TTK', 'Company location': '...   \n",
       "33  [{'Company name': 'Madtec', 'Company location'...   \n",
       "34  [{'Company name': 'Thermo Fisher Scientific', ...   \n",
       "35  [{'Company name': 'Procter&Gamble', 'Company l...   \n",
       "36  [{'Company name': 'Travelport International Se...   \n",
       "37  [{'Company name': 'Istera', 'Company location'...   \n",
       "38  [{'Company name': 'STORMOFF N.R.W. GmbH', 'Com...   \n",
       "39  [{'Company name': 'Beauty instrument', 'Compan...   \n",
       "40  [{'Company name': 'Thomson Reuters', 'Company ...   \n",
       "41  [{'Company name': ''ASIA IMPORT' LLC', 'Compan...   \n",
       "42  [{'Company name': 'PEPSICO', 'Company location...   \n",
       "43  [{'Company name': '`WILD RUSSIA' LLC', 'Compan...   \n",
       "44  [{'Company name': 'Park Inn by Radisson Odints...   \n",
       "45  [{'Company name': 'Inside Service LLC', 'Compa...   \n",
       "46  [{'Company name': 'Foresta Festival Park Hotel...   \n",
       "47  [{'Company name': 'IBC Corporate Travel', 'Com...   \n",
       "48  [{'Company name': 'INTURAERO', 'Company locati...   \n",
       "49  [{'Company name': 'Best Western VEGA Hotel & C...   \n",
       "50  [{'Company name': 'LLC Bright Print', 'Company...   \n",
       "51  [{'Company name': 'LLC Awardscraft', 'Company ...   \n",
       "52  [{'Company name': 'SCA Hygiene Products Russia...   \n",
       "53  [{'Company name': 'Pernod Ricard Rouss', 'Comp...   \n",
       "54  [{'Company name': 'Danone-Unimilk', 'Company l...   \n",
       "55                                                 []   \n",
       "56                                                 []   \n",
       "57                                                 []   \n",
       "58  [{'Company name': 'Rolf', 'Company location': ...   \n",
       "59  [{'Company name': '20 Centure Fox / Disney', '...   \n",
       "60  [{'Company name': 'WPP', 'Company location': '...   \n",
       "61  [{'Company name': 'Maxima Hotels', 'Company lo...   \n",
       "62  [{'Company name': 'Inchcape Hyundai. British i...   \n",
       "63  [{'Company name': 'Terumo BCT', 'Company locat...   \n",
       "64  [{'Company name': 'STADA group', 'Company loca...   \n",
       "65  [{'Company name': 'Gemotest', 'Company locatio...   \n",
       "\n",
       "                                            Education  \\\n",
       "0   [{'University': 'Moscow State Aircraft Technol...   \n",
       "1   [{'University': 'Institute of Economics, Manag...   \n",
       "2   [{'University': 'Financial University Under th...   \n",
       "3   [{'University': 'Plekhanov Russian University ...   \n",
       "4   [{'University': 'UNIVERSITY OF WOLVERHAMPTON',...   \n",
       "5   [{'University': 'Moscow State Linguistic Unive...   \n",
       "6   [{'University': 'Moscow Polytechnic University...   \n",
       "7   [{'University': 'Novosibirsk State Technical U...   \n",
       "8   [{'University': 'Moscow State University', 'Ed...   \n",
       "9   [{'University': 'Moscow Institute of World Eco...   \n",
       "10  [{'University': 'Belarusian National Technical...   \n",
       "11  [{'University': 'Plekhanov Russian University ...   \n",
       "12  [{'University': 'Moscow Technical University o...   \n",
       "13  [{'University': 'National Research University'...   \n",
       "14  [{'University': 'Moscow State University of Fi...   \n",
       "15  [{'University': 'MGIMO University', 'Education...   \n",
       "16  [{'University': 'The Moscow State University o...   \n",
       "17  [{'University': 'The Moscow Aviation Institute...   \n",
       "18  [{'University': 'North-Caucasian Federal Unive...   \n",
       "19  [{'University': 'Moscow Institute of World Eco...   \n",
       "20  [{'University': 'Military and Technical Univer...   \n",
       "21  [{'University': 'Belarussian State University'...   \n",
       "22  [{'University': 'Moscow Institute of Internati...   \n",
       "23  [{'University': 'City Business School', 'Educa...   \n",
       "24  [{'University': 'Moscow Automobile and Road In...   \n",
       "25  [{'University': 'Kyung Hee University.', 'Educ...   \n",
       "26  [{'University': 'Kursk State Agricultural Acad...   \n",
       "27  [{'University': 'Kuban State Academy of Physic...   \n",
       "28  [{'University': 'Rocket Forces Institute', 'Ed...   \n",
       "29  [{'University': 'Moscow State Pedagogical Univ...   \n",
       "30  [{'University': 'Oxford Brookes University', '...   \n",
       "31  [{'University': 'The State Academy of Plekhano...   \n",
       "32  [{'University': 'Ural State University', 'Educ...   \n",
       "33  [{'University': 'The State Academy of Plekhano...   \n",
       "34  [{'University': 'Lobachevsky State University'...   \n",
       "35  [{'University': 'Pacific State University', 'E...   \n",
       "36  [{'University': 'Moscow Financial and Industri...   \n",
       "37  [{'University': 'Moscow Humanitarian Technical...   \n",
       "38  [{'University': 'Institute of virology', 'Educ...   \n",
       "39  [{'University': 'Moscow Financial and Industri...   \n",
       "40  [{'University': 'Tver State University', 'Educ...   \n",
       "41  [{'University': 'Russian State Social Universi...   \n",
       "42  [{'University': 'Ural State University of Econ...   \n",
       "43  [{'University': 'Institute of Business and Des...   \n",
       "44  [{'University': 'Russian International Academy...   \n",
       "45  [{'University': 'Moscow university for the hum...   \n",
       "46  [{'University': 'Institute of International Bu...   \n",
       "47  [{'University': 'Moscow International Higher B...   \n",
       "48  [{'University': 'Moscow International Higher B...   \n",
       "49  [{'University': 'Russian International Academy...   \n",
       "50  [{'University': 'Moscow State University of Ge...   \n",
       "51  [{'University': 'Moscow Institute of Public Ad...   \n",
       "52  [{'University': 'Pforzheim Hochschule', 'Educa...   \n",
       "53  [{'University': 'State University of Managemen...   \n",
       "54  [{'University': 'New Economic School', 'Educat...   \n",
       "55  [{'University': 'Moscow International Higher B...   \n",
       "56  [{'University': 'Russian State University of T...   \n",
       "57  [{'University': 'Moscow State University of Fo...   \n",
       "58  [{'University': 'Moscow International Universi...   \n",
       "59  [{'University': 'Novosibirsk State Technical U...   \n",
       "60  [{'University': 'Russian State Social Universi...   \n",
       "61  [{'University': 'Modern University for the Hum...   \n",
       "62  [{'University': 'National Transport University...   \n",
       "63  [{'University': 'International business school...   \n",
       "64  [{'University': 'Moscow Medical Academy of M.I...   \n",
       "65  [{'University': 'Altai State University', 'Edu...   \n",
       "\n",
       "                                 Language proficiency  \\\n",
       "0        {'Russian': 'Native', 'English': 'Advanced'}   \n",
       "1        {'Russian': 'Native', 'English': 'Advanced'}   \n",
       "2    {'Russian': 'Native', 'English': 'Intermediate'}   \n",
       "3   {'Russian': 'Native', 'English': 'Advanced', '...   \n",
       "4        {'Russian': 'Native', 'English': 'Advanced'}   \n",
       "5   {'Russian': 'Native', 'English': 'Advanced', '...   \n",
       "6   {'Russian': 'Native', 'English': 'Upper Interm...   \n",
       "7        {'Russian': 'Native', 'English': 'Advanced'}   \n",
       "8   {'Russian': 'Native', 'English': 'Advanced', '...   \n",
       "9        {'Russian': 'Native', 'English': 'Advanced'}   \n",
       "10  {'Russian': 'Native', 'English': 'Proficiency'...   \n",
       "11  {'Russian': 'Native', 'English': 'Proficiency'...   \n",
       "12       {'Russian': 'Native', 'English': 'Beginner'}   \n",
       "13  {'Russian': 'Native', 'English': 'Upper Interm...   \n",
       "14  {'Russian': 'Native', 'English': 'Upper-Interm...   \n",
       "15  {'Russian': 'Native', 'English': 'Advanced', '...   \n",
       "16  {'Russian': 'Native', 'English': 'Upper-Interm...   \n",
       "17       {'Russian': 'Native', 'English': 'Advanced'}   \n",
       "18  {'Russian': 'Native', 'English': 'Advanced', '...   \n",
       "19       {'Russian': 'Native', 'English': 'Advanced'}   \n",
       "20  {'Russian': 'Native', 'English': 'Upper-Interm...   \n",
       "21  {'Russian': 'Native', 'English': 'Upper-Interm...   \n",
       "22  {'Russian': 'Native', 'English': 'Proficiency'...   \n",
       "23   {'Russian': 'Native', 'English': 'Intermediate'}   \n",
       "24  {'Russian': 'Native', 'English': 'Upper-Interm...   \n",
       "25  {'Russian': 'Native', 'English': 'Proficiency'...   \n",
       "26   {'Russian': 'Native', 'English': 'Intermediate'}   \n",
       "27       {'Russian': 'Native', 'English': 'Beginner'}   \n",
       "28  {'Russian': 'Native', 'English': 'Pre-Intermed...   \n",
       "29   {'Russian': 'Native', 'English': 'Intermediate'}   \n",
       "30  {'Russian': 'Native', 'English': 'Proficiency'...   \n",
       "31  {'Russian': 'Native', 'English': 'Proficiency'...   \n",
       "32  {'Russian': 'Native', 'English': 'Intermediate...   \n",
       "33  {'Russian': 'Native', 'English': 'Upper-Interm...   \n",
       "34   {'Russian': 'Native', 'English': 'Intermediate'}   \n",
       "35       {'Russian': 'Native', 'English': 'Beginner'}   \n",
       "36       {'Russian': 'Native', 'English': 'Advanced'}   \n",
       "37  {'Russian': 'Native', 'English': 'Elementary',...   \n",
       "38       {'Russian': 'Native', 'English': 'Advanced'}   \n",
       "39       {'Russian': 'Native', 'English': 'Beginner'}   \n",
       "40       {'Russian': 'Native', 'English': 'Advanced'}   \n",
       "41  {'Russian': 'Native', 'English': 'Proficiency'...   \n",
       "42       {'Russian': 'Native', 'English': 'Advanced'}   \n",
       "43   {'Russian': 'Native', 'English': 'Intermediate'}   \n",
       "44       {'Russian': 'Native', 'English': 'Advanced'}   \n",
       "45   {'Russian': 'Native', 'English': 'Intermediate'}   \n",
       "46  {'Russian': 'Native', 'English': 'Upper-Interm...   \n",
       "47       {'Russian': 'Native', 'English': 'Beginner'}   \n",
       "48       {'Russian': 'Native', 'English': 'Beginner'}   \n",
       "49   {'Russian': 'Native', 'English': 'Intermediate'}   \n",
       "50  {'Russian': 'Native', 'English': 'Upper-Interm...   \n",
       "51   {'Russian': 'Native', 'English': 'Intermediate'}   \n",
       "52  {'Russian': 'Native', 'English': 'Advanced', '...   \n",
       "53       {'Russian': 'Native', 'English': 'Advanced'}   \n",
       "54  {'Russian': 'Native', 'English': 'Advanced', '...   \n",
       "55  {'Russian': 'Native', 'English': 'Intermediate...   \n",
       "56  {'Russian': 'Native', 'English': 'Upper-Interm...   \n",
       "57   {'Russian': 'Native', 'English': 'Intermediate'}   \n",
       "58       {'Russian': 'Native', 'English': 'Advanced'}   \n",
       "59   {'Russian': 'Native', 'English': 'Intermediate'}   \n",
       "60  {'Russian': 'Native', 'English': 'Upper-Interm...   \n",
       "61  {'Russian': 'Native', 'English': 'Proficiency'...   \n",
       "62  {'Russian': 'Native', 'English': 'Upper-Interm...   \n",
       "63  {'Russian': 'Native', 'English': 'Proficiency'...   \n",
       "64   {'Russian': 'Native', 'English': 'Intermediate'}   \n",
       "65   {'Russian': 'Native', 'English': 'Intermediate'}   \n",
       "\n",
       "                                   Additional Courses  \\\n",
       "0   [{'Course name': 'Negotiation skills Training'...   \n",
       "1   [{'Course name': 'Effective Sales Negotiations...   \n",
       "2   [{'Course name': 'Foreign language', 'Educatio...   \n",
       "3   [{'Course name': 'Google Digital Garage', 'Edu...   \n",
       "4                                          Not stated   \n",
       "5   [{'Course name': 'Business English', 'Educatio...   \n",
       "6                                          Not stated   \n",
       "7                                          Not stated   \n",
       "8                                          Not stated   \n",
       "9                                          Not stated   \n",
       "10                                         Not stated   \n",
       "11  [{'Course name': 'Employment and cultural trai...   \n",
       "12                                         Not stated   \n",
       "13                                         Not stated   \n",
       "14  [{'Course name': 'Dry mortar technology: selec...   \n",
       "15                                         Not stated   \n",
       "16  [{'Course name': 'English language courses', '...   \n",
       "17                                         Not stated   \n",
       "18                                         Not stated   \n",
       "19                                         Not stated   \n",
       "20                                         Not stated   \n",
       "21                                         Not stated   \n",
       "22  [{'Course name': 'Guiding of commercial negoti...   \n",
       "23  [{'Course name': 'Communication and influence'...   \n",
       "24  [{'Course name': 'Communication and influence'...   \n",
       "25  [{'Course name': 'Marketing Management', 'Educ...   \n",
       "26                                         Not stated   \n",
       "27                                         Not stated   \n",
       "28  [{'Course name': 'CASIO Annual Challenge 2012'...   \n",
       "29                                         Not stated   \n",
       "30  [{'Course name': 'Sales Management', 'Educatio...   \n",
       "31  [{'Course name': 'Account management telecommu...   \n",
       "32  [{'Course name': 'Technology of sales', 'Educa...   \n",
       "33  [{'Course name': 'Guiding of commercial negoti...   \n",
       "34                                         Not stated   \n",
       "35                                         Not stated   \n",
       "36  [{'Course name': 'Elite Account Management', '...   \n",
       "37  [{'Course name': 'Guiding of commercial negoti...   \n",
       "38                                         Not stated   \n",
       "39                                         Not stated   \n",
       "40                                         Not stated   \n",
       "41  [{'Course name': 'Gap Partnership', 'Education...   \n",
       "42                                         Not stated   \n",
       "43                                         Not stated   \n",
       "44                                         Not stated   \n",
       "45                                         Not stated   \n",
       "46                                         Not stated   \n",
       "47                                         Not stated   \n",
       "48                                         Not stated   \n",
       "49                                         Not stated   \n",
       "50                                         Not stated   \n",
       "51                                         Not stated   \n",
       "52                                         Not stated   \n",
       "53                                         Not stated   \n",
       "54                                         Not stated   \n",
       "55                                         Not stated   \n",
       "56                                         Not stated   \n",
       "57                                         Not stated   \n",
       "58                                          Not sated   \n",
       "59                                         Not stated   \n",
       "60                                         Not stated   \n",
       "61  [{'Course name': 'General English - Advanced l...   \n",
       "62  [{'Course name': 'Hyundai smart sense system',...   \n",
       "63                                         Not stated   \n",
       "64                                         Not stated   \n",
       "65  [{'Course name': 'Low Intermediate', 'Educatio...   \n",
       "\n",
       "                                               Skills  \n",
       "0   [Sales Forecasting, Sales Management, Sales Pl...  \n",
       "1   [Sales Forecasting, Sales Management, Sales Pl...  \n",
       "2   [C1, Sales Management, Marketing Analysis, Sal...  \n",
       "3   [PR, Project Management, Digital Marketing, Sa...  \n",
       "4   [Analytical skills, Organization skills, Time ...  \n",
       "5   [Negotiation skills, C1, Analytical skills, Or...  \n",
       "6   [Customer service, Negotiation skills, Sales s...  \n",
       "7   [Negotiation skills, B2B, Direct sales, Sales ...  \n",
       "8   [Customer service, Negotiation skills, Team wo...  \n",
       "9   [Customer service, Negotiation skills, SAP, An...  \n",
       "10  [Project management, Negotiation skills, prese...  \n",
       "11  [Communication skills, Negotiation skills, Tim...  \n",
       "12            [Active sales, Negotiation skills, SAP]  \n",
       "13  [Customer service, Negotiation skills, Sales, ...  \n",
       "14  [Proactive, Result-oriented, Negotiation skill...  \n",
       "15  [Customer service, Negotiation skills, Sales s...  \n",
       "16                         [Direct sales, Management]  \n",
       "17  [Customer service, Negotiation skills, CRM, An...  \n",
       "18  [Sales skills, Negotiation skills, CRM, Analyt...  \n",
       "19  [Customer relations, Negotiation skills, Incot...  \n",
       "20  [Customer service, Negotiation skills, Sales s...  \n",
       "21  [Customer service, Negotiation skills, Key acc...  \n",
       "22  [Sales Forecasting, Sales Management, Sales Pl...  \n",
       "23  [Communication skills, Analytical skills, Nego...  \n",
       "24  [Customers service, Analytical skills, Negotia...  \n",
       "25  [Negotiation skills, Leadership, Presentation ...  \n",
       "26  [Sales Forecasting, Sales Management, Sales Pl...  \n",
       "27  [Sales Forecasting, Sales Management, Sales Pl...  \n",
       "28  [Sales Forecasting, Sales Management, Sales Pl...  \n",
       "29  [Active, Responsible, Presentation skills, Sal...  \n",
       "30  [Negotiation skills, Sales Management, B2B, Ke...  \n",
       "31  [Communication skills, Sales Management, Sales...  \n",
       "32  [Cold calls, Sales Management, Customer relati...  \n",
       "33  [Project management, Sales Management, Present...  \n",
       "34  [Sales Forecasting, Sales Management, Sales Pl...  \n",
       "35  [Account management, Communication skills, Sal...  \n",
       "36  [Sales Forecasting, Sales Management, Sales Pl...  \n",
       "37  [Active sales, Customer service, Sales Plannin...  \n",
       "38  [Sales Forecasting, Sales Management, Sales Pl...  \n",
       "39  [Telemarketing, Communication skills, Customer...  \n",
       "40  [Sales Forecasting, Sales Management, Sales Pl...  \n",
       "41  [Sales Forecasting, Analytical skills, Sales P...  \n",
       "42  [Customer service, Sales Management, Sales Pla...  \n",
       "43  [Communication skills, Sales Management, Negot...  \n",
       "44   [CRM, Sales Management, Team work, Sales Skills]  \n",
       "45  [Customer service, Sales Management, Team work...  \n",
       "46  [Customer service, Sales Management, Team work...  \n",
       "47  [Customer service, Sales Management, Team work...  \n",
       "48  [Customer service, Sales Management, Team work...  \n",
       "49  [Customer service, Sales Management, Team work...  \n",
       "50  [Sales Forecasting, Sales Management, Sales Pl...  \n",
       "51  [Sales Forecasting, Sales Management, Sales Pl...  \n",
       "52  [Sales Forecasting, Sales Management, Sales Pl...  \n",
       "53  [Sales Forecasting, Sales Management, Sales Pl...  \n",
       "54  [Sales Forecasting, Sales Management, Sales Pl...  \n",
       "55  [Active, Responsible, Presentation skills, Ana...  \n",
       "56  [Active, Responsible, Presentation skills, Ana...  \n",
       "57  [Active, Responsible, Presentation skills, Ana...  \n",
       "58  [Customer service, Sales Management, Presentat...  \n",
       "59  [Presentation skills, Sales Management, Custom...  \n",
       "60  [Communication skills, Sales Management, Sales...  \n",
       "61  [Communication skills, Sales Management, Custo...  \n",
       "62  [Sales Forecasting, Sales Management, Sales Pl...  \n",
       "63  [Sales Forecasting, Sales Management, Sales Pl...  \n",
       "64  [Customer service, Social work, Communication ...  \n",
       "65  [Sales Forecasting, Sales Management, Sales Pl...  "
      ]
     },
     "execution_count": 5,
     "metadata": {},
     "output_type": "execute_result"
    }
   ],
   "source": [
    "data"
   ]
  },
  {
   "cell_type": "code",
   "execution_count": 6,
   "metadata": {},
   "outputs": [],
   "source": [
    "gender_group = data.groupby('Gender')[['Age', 'Total work experience, years', 'Desired wage, RUB']].mean()"
   ]
  },
  {
   "cell_type": "code",
   "execution_count": 7,
   "metadata": {},
   "outputs": [],
   "source": [
    "gender_group['Total quantity'] = data.groupby(\"Gender\").size()"
   ]
  },
  {
   "cell_type": "code",
   "execution_count": 8,
   "metadata": {},
   "outputs": [],
   "source": [
    "gender_group['Share, %'] = data.groupby(\"Gender\").size()* 100 // 66 "
   ]
  },
  {
   "cell_type": "code",
   "execution_count": 9,
   "metadata": {},
   "outputs": [
    {
     "data": {
      "text/html": [
       "<div>\n",
       "<style scoped>\n",
       "    .dataframe tbody tr th:only-of-type {\n",
       "        vertical-align: middle;\n",
       "    }\n",
       "\n",
       "    .dataframe tbody tr th {\n",
       "        vertical-align: top;\n",
       "    }\n",
       "\n",
       "    .dataframe thead th {\n",
       "        text-align: right;\n",
       "    }\n",
       "</style>\n",
       "<table border=\"1\" class=\"dataframe\">\n",
       "  <thead>\n",
       "    <tr style=\"text-align: right;\">\n",
       "      <th></th>\n",
       "      <th>Total quantity</th>\n",
       "      <th>Share, %</th>\n",
       "      <th>Age</th>\n",
       "      <th>Total work experience, years</th>\n",
       "      <th>Desired wage, RUB</th>\n",
       "    </tr>\n",
       "    <tr>\n",
       "      <th>Gender</th>\n",
       "      <th></th>\n",
       "      <th></th>\n",
       "      <th></th>\n",
       "      <th></th>\n",
       "      <th></th>\n",
       "    </tr>\n",
       "  </thead>\n",
       "  <tbody>\n",
       "    <tr>\n",
       "      <th>female</th>\n",
       "      <td>28</td>\n",
       "      <td>42</td>\n",
       "      <td>29.035714</td>\n",
       "      <td>5.214286</td>\n",
       "      <td>87678.571429</td>\n",
       "    </tr>\n",
       "    <tr>\n",
       "      <th>male</th>\n",
       "      <td>38</td>\n",
       "      <td>57</td>\n",
       "      <td>32.947368</td>\n",
       "      <td>6.184211</td>\n",
       "      <td>103263.157895</td>\n",
       "    </tr>\n",
       "  </tbody>\n",
       "</table>\n",
       "</div>"
      ],
      "text/plain": [
       "        Total quantity  Share, %        Age  Total work experience, years  \\\n",
       "Gender                                                                      \n",
       "female              28        42  29.035714                      5.214286   \n",
       "male                38        57  32.947368                      6.184211   \n",
       "\n",
       "        Desired wage, RUB  \n",
       "Gender                     \n",
       "female       87678.571429  \n",
       "male        103263.157895  "
      ]
     },
     "execution_count": 9,
     "metadata": {},
     "output_type": "execute_result"
    }
   ],
   "source": [
    "gender_group[['Total quantity', 'Share, %', 'Age', 'Total work experience, years', 'Desired wage, RUB']]"
   ]
  },
  {
   "cell_type": "code",
   "execution_count": 22,
   "metadata": {},
   "outputs": [
    {
     "data": {
      "text/plain": [
       "<matplotlib.axes._subplots.AxesSubplot at 0x1a236cacd0>"
      ]
     },
     "execution_count": 22,
     "metadata": {},
     "output_type": "execute_result"
    },
    {
     "data": {
      "image/png": "[encoded data removed]",
      "text/plain": [
       "<Figure size 432x288 with 1 Axes>"
      ]
     },
     "metadata": {},
     "output_type": "display_data"
    }
   ],
   "source": [
    "data.groupby(\"Area\")['Desired wage, RUB'].median().sort_values().plot(kind='bar')"
   ]
  },
  {
   "cell_type": "code",
   "execution_count": 24,
   "metadata": {},
   "outputs": [
    {
     "data": {
      "image/png": "[encoded data removed]",
      "text/plain": [
       "<Figure size 1152x864 with 1 Axes>"
      ]
     },
     "metadata": {},
     "output_type": "display_data"
    }
   ],
   "source": [
    "plt.figure(figsize=(16, 12))\n",
    "ax = sns.regplot(x=\"Total work experience, years\", y=\"Desired wage, RUB\", data=data)"
   ]
  },
  {
   "cell_type": "code",
   "execution_count": 31,
   "metadata": {},
   "outputs": [
    {
     "data": {
      "application/vnd.plotly.v1+json": {
       "config": {
        "plotlyServerURL": "https://plot.ly"
       },
       "data": [
        {
         "hovertemplate": "Age=%{x}<br>Total work experience, years=%{y}<br>Desired wage, RUB=%{marker.color}<extra></extra>",
         "legendgroup": "",
         "marker": {
          "color": [
           120000,
           80000,
           100000,
           100000,
           70000,
           130000,
           80000,
           170000,
           120000,
           90000,
           85000,
           80000,
           90000,
           60000,
           90000,
           80000,
           100000,
           80000,
           75000,
           100000,
           110000,
           150000,
           80000,
           110000,
           100000,
           120000,
           90000,
           140000,
           160000,
           50000,
           70000,
           180000,
           65000,
           100000,
           150000,
           75000,
           100000,
           50000,
           160000,
           80000,
           120000,
           130000,
           95000,
           80000,
           100000,
           75000,
           75000,
           65000,
           60000,
           70000,
           95000,
           80000,
           80000,
           110000,
           100000,
           55000,
           50000,
           45000,
           75000,
           90000,
           110000,
           50000,
           130000,
           150000,
           89000,
           160000
          ],
          "coloraxis": "coloraxis",
          "symbol": "circle"
         },
         "mode": "markers",
         "name": "",
         "showlegend": false,
         "type": "scatter",
         "x": [
          40,
          31,
          31,
          23,
          25,
          29,
          29,
          35,
          35,
          30,
          37,
          36,
          26,
          25,
          30,
          28,
          37,
          40,
          31,
          34,
          37,
          42,
          42,
          34,
          27,
          35,
          32,
          31,
          43,
          22,
          42,
          43,
          23,
          27,
          44,
          24,
          41,
          22,
          48,
          23,
          41,
          36,
          36,
          29,
          29,
          26,
          28,
          23,
          24,
          24,
          29,
          29,
          30,
          30,
          31,
          22,
          21,
          20,
          25,
          27,
          25,
          24,
          30,
          43,
          27,
          42
         ],
         "xaxis": "x",
         "y": [
          17,
          8,
          13,
          4,
          3,
          8,
          3,
          7,
          16,
          8,
          3,
          8,
          4,
          2,
          4,
          2,
          4,
          5,
          8,
          7,
          9,
          16,
          5,
          14,
          1,
          5,
          5,
          4,
          7,
          0,
          3,
          11,
          2,
          6,
          15,
          1,
          16,
          3,
          11,
          2,
          16,
          9,
          10,
          5,
          2,
          2,
          3,
          1,
          1,
          1,
          4,
          4,
          5,
          5,
          6,
          0,
          0,
          0,
          2,
          5,
          3,
          2,
          4,
          12,
          2,
          7
         ],
         "yaxis": "y"
        }
       ],
       "layout": {
        "autosize": true,
        "coloraxis": {
         "colorbar": {
          "title": {
           "text": "Desired wage, RUB"
          }
         },
         "colorscale": [
          [
           0,
           "#0d0887"
          ],
          [
           0.1111111111111111,
           "#46039f"
          ],
          [
           0.2222222222222222,
           "#7201a8"
          ],
          [
           0.3333333333333333,
           "#9c179e"
          ],
          [
           0.4444444444444444,
           "#bd3786"
          ],
          [
           0.5555555555555556,
           "#d8576b"
          ],
          [
           0.6666666666666666,
           "#ed7953"
          ],
          [
           0.7777777777777778,
           "#fb9f3a"
          ],
          [
           0.8888888888888888,
           "#fdca26"
          ],
          [
           1,
           "#f0f921"
          ]
         ]
        },
        "legend": {
         "tracegroupgap": 0
        },
        "margin": {
         "t": 60
        },
        "template": {
         "data": {
          "bar": [
           {
            "error_x": {
             "color": "#2a3f5f"
            },
            "error_y": {
             "color": "#2a3f5f"
            },
            "marker": {
             "line": {
              "color": "#E5ECF6",
              "width": 0.5
             }
            },
            "type": "bar"
           }
          ],
          "barpolar": [
           {
            "marker": {
             "line": {
              "color": "#E5ECF6",
              "width": 0.5
             }
            },
            "type": "barpolar"
           }
          ],
          "carpet": [
           {
            "aaxis": {
             "endlinecolor": "#2a3f5f",
             "gridcolor": "white",
             "linecolor": "white",
             "minorgridcolor": "white",
             "startlinecolor": "#2a3f5f"
            },
            "baxis": {
             "endlinecolor": "#2a3f5f",
             "gridcolor": "white",
             "linecolor": "white",
             "minorgridcolor": "white",
             "startlinecolor": "#2a3f5f"
            },
            "type": "carpet"
           }
          ],
          "choropleth": [
           {
            "colorbar": {
             "outlinewidth": 0,
             "ticks": ""
            },
            "type": "choropleth"
           }
          ],
          "contour": [
           {
            "colorbar": {
             "outlinewidth": 0,
             "ticks": ""
            },
            "colorscale": [
             [
              0,
              "#0d0887"
             ],
             [
              0.1111111111111111,
              "#46039f"
             ],
             [
              0.2222222222222222,
              "#7201a8"
             ],
             [
              0.3333333333333333,
              "#9c179e"
             ],
             [
              0.4444444444444444,
              "#bd3786"
             ],
             [
              0.5555555555555556,
              "#d8576b"
             ],
             [
              0.6666666666666666,
              "#ed7953"
             ],
             [
              0.7777777777777778,
              "#fb9f3a"
             ],
             [
              0.8888888888888888,
              "#fdca26"
             ],
             [
              1,
              "#f0f921"
             ]
            ],
            "type": "contour"
           }
          ],
          "contourcarpet": [
           {
            "colorbar": {
             "outlinewidth": 0,
             "ticks": ""
            },
            "type": "contourcarpet"
           }
          ],
          "heatmap": [
           {
            "colorbar": {
             "outlinewidth": 0,
             "ticks": ""
            },
            "colorscale": [
             [
              0,
              "#0d0887"
             ],
             [
              0.1111111111111111,
              "#46039f"
             ],
             [
              0.2222222222222222,
              "#7201a8"
             ],
             [
              0.3333333333333333,
              "#9c179e"
             ],
             [
              0.4444444444444444,
              "#bd3786"
             ],
             [
              0.5555555555555556,
              "#d8576b"
             ],
             [
              0.6666666666666666,
              "#ed7953"
             ],
             [
              0.7777777777777778,
              "#fb9f3a"
             ],
             [
              0.8888888888888888,
              "#fdca26"
             ],
             [
              1,
              "#f0f921"
             ]
            ],
            "type": "heatmap"
           }
          ],
          "heatmapgl": [
           {
            "colorbar": {
             "outlinewidth": 0,
             "ticks": ""
            },
            "colorscale": [
             [
              0,
              "#0d0887"
             ],
             [
              0.1111111111111111,
              "#46039f"
             ],
             [
              0.2222222222222222,
              "#7201a8"
             ],
             [
              0.3333333333333333,
              "#9c179e"
             ],
             [
              0.4444444444444444,
              "#bd3786"
             ],
             [
              0.5555555555555556,
              "#d8576b"
             ],
             [
              0.6666666666666666,
              "#ed7953"
             ],
             [
              0.7777777777777778,
              "#fb9f3a"
             ],
             [
              0.8888888888888888,
              "#fdca26"
             ],
             [
              1,
              "#f0f921"
             ]
            ],
            "type": "heatmapgl"
           }
          ],
          "histogram": [
           {
            "marker": {
             "colorbar": {
              "outlinewidth": 0,
              "ticks": ""
             }
            },
            "type": "histogram"
           }
          ],
          "histogram2d": [
           {
            "colorbar": {
             "outlinewidth": 0,
             "ticks": ""
            },
            "colorscale": [
             [
              0,
              "#0d0887"
             ],
             [
              0.1111111111111111,
              "#46039f"
             ],
             [
              0.2222222222222222,
              "#7201a8"
             ],
             [
              0.3333333333333333,
              "#9c179e"
             ],
             [
              0.4444444444444444,
              "#bd3786"
             ],
             [
              0.5555555555555556,
              "#d8576b"
             ],
             [
              0.6666666666666666,
              "#ed7953"
             ],
             [
              0.7777777777777778,
              "#fb9f3a"
             ],
             [
              0.8888888888888888,
              "#fdca26"
             ],
             [
              1,
              "#f0f921"
             ]
            ],
            "type": "histogram2d"
           }
          ],
          "histogram2dcontour": [
           {
            "colorbar": {
             "outlinewidth": 0,
             "ticks": ""
            },
            "colorscale": [
             [
              0,
              "#0d0887"
             ],
             [
              0.1111111111111111,
              "#46039f"
             ],
             [
              0.2222222222222222,
              "#7201a8"
             ],
             [
              0.3333333333333333,
              "#9c179e"
             ],
             [
              0.4444444444444444,
              "#bd3786"
             ],
             [
              0.5555555555555556,
              "#d8576b"
             ],
             [
              0.6666666666666666,
              "#ed7953"
             ],
             [
              0.7777777777777778,
              "#fb9f3a"
             ],
             [
              0.8888888888888888,
              "#fdca26"
             ],
             [
              1,
              "#f0f921"
             ]
            ],
            "type": "histogram2dcontour"
           }
          ],
          "mesh3d": [
           {
            "colorbar": {
             "outlinewidth": 0,
             "ticks": ""
            },
            "type": "mesh3d"
           }
          ],
          "parcoords": [
           {
            "line": {
             "colorbar": {
              "outlinewidth": 0,
              "ticks": ""
             }
            },
            "type": "parcoords"
           }
          ],
          "pie": [
           {
            "automargin": true,
            "type": "pie"
           }
          ],
          "scatter": [
           {
            "marker": {
             "colorbar": {
              "outlinewidth": 0,
              "ticks": ""
             }
            },
            "type": "scatter"
           }
          ],
          "scatter3d": [
           {
            "line": {
             "colorbar": {
              "outlinewidth": 0,
              "ticks": ""
             }
            },
            "marker": {
             "colorbar": {
              "outlinewidth": 0,
              "ticks": ""
             }
            },
            "type": "scatter3d"
           }
          ],
          "scattercarpet": [
           {
            "marker": {
             "colorbar": {
              "outlinewidth": 0,
              "ticks": ""
             }
            },
            "type": "scattercarpet"
           }
          ],
          "scattergeo": [
           {
            "marker": {
             "colorbar": {
              "outlinewidth": 0,
              "ticks": ""
             }
            },
            "type": "scattergeo"
           }
          ],
          "scattergl": [
           {
            "marker": {
             "colorbar": {
              "outlinewidth": 0,
              "ticks": ""
             }
            },
            "type": "scattergl"
           }
          ],
          "scattermapbox": [
           {
            "marker": {
             "colorbar": {
              "outlinewidth": 0,
              "ticks": ""
             }
            },
            "type": "scattermapbox"
           }
          ],
          "scatterpolar": [
           {
            "marker": {
             "colorbar": {
              "outlinewidth": 0,
              "ticks": ""
             }
            },
            "type": "scatterpolar"
           }
          ],
          "scatterpolargl": [
           {
            "marker": {
             "colorbar": {
              "outlinewidth": 0,
              "ticks": ""
             }
            },
            "type": "scatterpolargl"
           }
          ],
          "scatterternary": [
           {
            "marker": {
             "colorbar": {
              "outlinewidth": 0,
              "ticks": ""
             }
            },
            "type": "scatterternary"
           }
          ],
          "surface": [
           {
            "colorbar": {
             "outlinewidth": 0,
             "ticks": ""
            },
            "colorscale": [
             [
              0,
              "#0d0887"
             ],
             [
              0.1111111111111111,
              "#46039f"
             ],
             [
              0.2222222222222222,
              "#7201a8"
             ],
             [
              0.3333333333333333,
              "#9c179e"
             ],
             [
              0.4444444444444444,
              "#bd3786"
             ],
             [
              0.5555555555555556,
              "#d8576b"
             ],
             [
              0.6666666666666666,
              "#ed7953"
             ],
             [
              0.7777777777777778,
              "#fb9f3a"
             ],
             [
              0.8888888888888888,
              "#fdca26"
             ],
             [
              1,
              "#f0f921"
             ]
            ],
            "type": "surface"
           }
          ],
          "table": [
           {
            "cells": {
             "fill": {
              "color": "#EBF0F8"
             },
             "line": {
              "color": "white"
             }
            },
            "header": {
             "fill": {
              "color": "#C8D4E3"
             },
             "line": {
              "color": "white"
             }
            },
            "type": "table"
           }
          ]
         },
         "layout": {
          "annotationdefaults": {
           "arrowcolor": "#2a3f5f",
           "arrowhead": 0,
           "arrowwidth": 1
          },
          "coloraxis": {
           "colorbar": {
            "outlinewidth": 0,
            "ticks": ""
           }
          },
          "colorscale": {
           "diverging": [
            [
             0,
             "#8e0152"
            ],
            [
             0.1,
             "#c51b7d"
            ],
            [
             0.2,
             "#de77ae"
            ],
            [
             0.3,
             "#f1b6da"
            ],
            [
             0.4,
             "#fde0ef"
            ],
            [
             0.5,
             "#f7f7f7"
            ],
            [
             0.6,
             "#e6f5d0"
            ],
            [
             0.7,
             "#b8e186"
            ],
            [
             0.8,
             "#7fbc41"
            ],
            [
             0.9,
             "#4d9221"
            ],
            [
             1,
             "#276419"
            ]
           ],
           "sequential": [
            [
             0,
             "#0d0887"
            ],
            [
             0.1111111111111111,
             "#46039f"
            ],
            [
             0.2222222222222222,
             "#7201a8"
            ],
            [
             0.3333333333333333,
             "#9c179e"
            ],
            [
             0.4444444444444444,
             "#bd3786"
            ],
            [
             0.5555555555555556,
             "#d8576b"
            ],
            [
             0.6666666666666666,
             "#ed7953"
            ],
            [
             0.7777777777777778,
             "#fb9f3a"
            ],
            [
             0.8888888888888888,
             "#fdca26"
            ],
            [
             1,
             "#f0f921"
            ]
           ],
           "sequentialminus": [
            [
             0,
             "#0d0887"
            ],
            [
             0.1111111111111111,
             "#46039f"
            ],
            [
             0.2222222222222222,
             "#7201a8"
            ],
            [
             0.3333333333333333,
             "#9c179e"
            ],
            [
             0.4444444444444444,
             "#bd3786"
            ],
            [
             0.5555555555555556,
             "#d8576b"
            ],
            [
             0.6666666666666666,
             "#ed7953"
            ],
            [
             0.7777777777777778,
             "#fb9f3a"
            ],
            [
             0.8888888888888888,
             "#fdca26"
            ],
            [
             1,
             "#f0f921"
            ]
           ]
          },
          "colorway": [
           "#636efa",
           "#EF553B",
           "#00cc96",
           "#ab63fa",
           "#FFA15A",
           "#19d3f3",
           "#FF6692",
           "#B6E880",
           "#FF97FF",
           "#FECB52"
          ],
          "font": {
           "color": "#2a3f5f"
          },
          "geo": {
           "bgcolor": "white",
           "lakecolor": "white",
           "landcolor": "#E5ECF6",
           "showlakes": true,
           "showland": true,
           "subunitcolor": "white"
          },
          "hoverlabel": {
           "align": "left"
          },
          "hovermode": "closest",
          "mapbox": {
           "style": "light"
          },
          "paper_bgcolor": "white",
          "plot_bgcolor": "#E5ECF6",
          "polar": {
           "angularaxis": {
            "gridcolor": "white",
            "linecolor": "white",
            "ticks": ""
           },
           "bgcolor": "#E5ECF6",
           "radialaxis": {
            "gridcolor": "white",
            "linecolor": "white",
            "ticks": ""
           }
          },
          "scene": {
           "xaxis": {
            "backgroundcolor": "#E5ECF6",
            "gridcolor": "white",
            "gridwidth": 2,
            "linecolor": "white",
            "showbackground": true,
            "ticks": "",
            "zerolinecolor": "white"
           },
           "yaxis": {
            "backgroundcolor": "#E5ECF6",
            "gridcolor": "white",
            "gridwidth": 2,
            "linecolor": "white",
            "showbackground": true,
            "ticks": "",
            "zerolinecolor": "white"
           },
           "zaxis": {
            "backgroundcolor": "#E5ECF6",
            "gridcolor": "white",
            "gridwidth": 2,
            "linecolor": "white",
            "showbackground": true,
            "ticks": "",
            "zerolinecolor": "white"
           }
          },
          "shapedefaults": {
           "line": {
            "color": "#2a3f5f"
           }
          },
          "ternary": {
           "aaxis": {
            "gridcolor": "white",
            "linecolor": "white",
            "ticks": ""
           },
           "baxis": {
            "gridcolor": "white",
            "linecolor": "white",
            "ticks": ""
           },
           "bgcolor": "#E5ECF6",
           "caxis": {
            "gridcolor": "white",
            "linecolor": "white",
            "ticks": ""
           }
          },
          "title": {
           "x": 0.05
          },
          "xaxis": {
           "automargin": true,
           "gridcolor": "white",
           "linecolor": "white",
           "ticks": "",
           "title": {
            "standoff": 15
           },
           "zerolinecolor": "white",
           "zerolinewidth": 2
          },
          "yaxis": {
           "automargin": true,
           "gridcolor": "white",
           "linecolor": "white",
           "ticks": "",
           "title": {
            "standoff": 15
           },
           "zerolinecolor": "white",
           "zerolinewidth": 2
          }
         }
        },
        "xaxis": {
         "anchor": "y",
         "autorange": true,
         "domain": [
          0,
          1
         ],
         "range": [
          18.30099594245666,
          49.69900405754334
         ],
         "title": {
          "text": "Age"
         },
         "type": "linear"
        },
        "yaxis": {
         "anchor": "x",
         "autorange": true,
         "domain": [
          0,
          1
         ],
         "range": [
          -1.205340699815838,
          18.20534069981584
         ],
         "title": {
          "text": "Total work experience, years"
         },
         "type": "linear"
        }
       }
      },
      "image/png": "[encoded data removed]",
      "text/html": [
       "<div>\n",
       "        \n",
       "        \n",
       "            <div id=\"da1ee059-f451-4406-9d6f-99f63a2763a9\" class=\"plotly-graph-div\" style=\"height:525px; width:100%;\"></div>\n",
       "            <script type=\"text/javascript\">\n",
       "                require([\"plotly\"], function(Plotly) {\n",
       "                    window.PLOTLYENV=window.PLOTLYENV || {};\n",
       "                    \n",
       "                if (document.getElementById(\"da1ee059-f451-4406-9d6f-99f63a2763a9\")) {\n",
       "                    Plotly.newPlot(\n",
       "                        'da1ee059-f451-4406-9d6f-99f63a2763a9',\n",
       "                        [{\"hovertemplate\": \"Age=%{x}<br>Total work experience, years=%{y}<br>Desired wage, RUB=%{marker.color}<extra></extra>\", \"legendgroup\": \"\", \"marker\": {\"color\": [120000, 80000, 100000, 100000, 70000, 130000, 80000, 170000, 120000, 90000, 85000, 80000, 90000, 60000, 90000, 80000, 100000, 80000, 75000, 100000, 110000, 150000, 80000, 110000, 100000, 120000, 90000, 140000, 160000, 50000, 70000, 180000, 65000, 100000, 150000, 75000, 100000, 50000, 160000, 80000, 120000, 130000, 95000, 80000, 100000, 75000, 75000, 65000, 60000, 70000, 95000, 80000, 80000, 110000, 100000, 55000, 50000, 45000, 75000, 90000, 110000, 50000, 130000, 150000, 89000, 160000], \"coloraxis\": \"coloraxis\", \"symbol\": \"circle\"}, \"mode\": \"markers\", \"name\": \"\", \"showlegend\": false, \"type\": \"scatter\", \"x\": [40, 31, 31, 23, 25, 29, 29, 35, 35, 30, 37, 36, 26, 25, 30, 28, 37, 40, 31, 34, 37, 42, 42, 34, 27, 35, 32, 31, 43, 22, 42, 43, 23, 27, 44, 24, 41, 22, 48, 23, 41, 36, 36, 29, 29, 26, 28, 23, 24, 24, 29, 29, 30, 30, 31, 22, 21, 20, 25, 27, 25, 24, 30, 43, 27, 42], \"xaxis\": \"x\", \"y\": [17, 8, 13, 4, 3, 8, 3, 7, 16, 8, 3, 8, 4, 2, 4, 2, 4, 5, 8, 7, 9, 16, 5, 14, 1, 5, 5, 4, 7, 0, 3, 11, 2, 6, 15, 1, 16, 3, 11, 2, 16, 9, 10, 5, 2, 2, 3, 1, 1, 1, 4, 4, 5, 5, 6, 0, 0, 0, 2, 5, 3, 2, 4, 12, 2, 7], \"yaxis\": \"y\"}],\n",
       "                        {\"coloraxis\": {\"colorbar\": {\"title\": {\"text\": \"Desired wage, RUB\"}}, \"colorscale\": [[0.0, \"#0d0887\"], [0.1111111111111111, \"#46039f\"], [0.2222222222222222, \"#7201a8\"], [0.3333333333333333, \"#9c179e\"], [0.4444444444444444, \"#bd3786\"], [0.5555555555555556, \"#d8576b\"], [0.6666666666666666, \"#ed7953\"], [0.7777777777777778, \"#fb9f3a\"], [0.8888888888888888, \"#fdca26\"], [1.0, \"#f0f921\"]]}, \"legend\": {\"tracegroupgap\": 0}, \"margin\": {\"t\": 60}, \"template\": {\"data\": {\"bar\": [{\"error_x\": {\"color\": \"#2a3f5f\"}, \"error_y\": {\"color\": \"#2a3f5f\"}, \"marker\": {\"line\": {\"color\": \"#E5ECF6\", \"width\": 0.5}}, \"type\": \"bar\"}], \"barpolar\": [{\"marker\": {\"line\": {\"color\": \"#E5ECF6\", \"width\": 0.5}}, \"type\": \"barpolar\"}], \"carpet\": [{\"aaxis\": {\"endlinecolor\": \"#2a3f5f\", \"gridcolor\": \"white\", \"linecolor\": \"white\", \"minorgridcolor\": \"white\", \"startlinecolor\": \"#2a3f5f\"}, \"baxis\": {\"endlinecolor\": \"#2a3f5f\", \"gridcolor\": \"white\", \"linecolor\": \"white\", \"minorgridcolor\": \"white\", \"startlinecolor\": \"#2a3f5f\"}, \"type\": \"carpet\"}], \"choropleth\": [{\"colorbar\": {\"outlinewidth\": 0, \"ticks\": \"\"}, \"type\": \"choropleth\"}], \"contour\": [{\"colorbar\": {\"outlinewidth\": 0, \"ticks\": \"\"}, \"colorscale\": [[0.0, \"#0d0887\"], [0.1111111111111111, \"#46039f\"], [0.2222222222222222, \"#7201a8\"], [0.3333333333333333, \"#9c179e\"], [0.4444444444444444, \"#bd3786\"], [0.5555555555555556, \"#d8576b\"], [0.6666666666666666, \"#ed7953\"], [0.7777777777777778, \"#fb9f3a\"], [0.8888888888888888, \"#fdca26\"], [1.0, \"#f0f921\"]], \"type\": \"contour\"}], \"contourcarpet\": [{\"colorbar\": {\"outlinewidth\": 0, \"ticks\": \"\"}, \"type\": \"contourcarpet\"}], \"heatmap\": [{\"colorbar\": {\"outlinewidth\": 0, \"ticks\": \"\"}, \"colorscale\": [[0.0, \"#0d0887\"], [0.1111111111111111, \"#46039f\"], [0.2222222222222222, \"#7201a8\"], [0.3333333333333333, \"#9c179e\"], [0.4444444444444444, \"#bd3786\"], [0.5555555555555556, \"#d8576b\"], [0.6666666666666666, \"#ed7953\"], [0.7777777777777778, \"#fb9f3a\"], [0.8888888888888888, \"#fdca26\"], [1.0, \"#f0f921\"]], \"type\": \"heatmap\"}], \"heatmapgl\": [{\"colorbar\": {\"outlinewidth\": 0, \"ticks\": \"\"}, \"colorscale\": [[0.0, \"#0d0887\"], [0.1111111111111111, \"#46039f\"], [0.2222222222222222, \"#7201a8\"], [0.3333333333333333, \"#9c179e\"], [0.4444444444444444, \"#bd3786\"], [0.5555555555555556, \"#d8576b\"], [0.6666666666666666, \"#ed7953\"], [0.7777777777777778, \"#fb9f3a\"], [0.8888888888888888, \"#fdca26\"], [1.0, \"#f0f921\"]], \"type\": \"heatmapgl\"}], \"histogram\": [{\"marker\": {\"colorbar\": {\"outlinewidth\": 0, \"ticks\": \"\"}}, \"type\": \"histogram\"}], \"histogram2d\": [{\"colorbar\": {\"outlinewidth\": 0, \"ticks\": \"\"}, \"colorscale\": [[0.0, \"#0d0887\"], [0.1111111111111111, \"#46039f\"], [0.2222222222222222, \"#7201a8\"], [0.3333333333333333, \"#9c179e\"], [0.4444444444444444, \"#bd3786\"], [0.5555555555555556, \"#d8576b\"], [0.6666666666666666, \"#ed7953\"], [0.7777777777777778, \"#fb9f3a\"], [0.8888888888888888, \"#fdca26\"], [1.0, \"#f0f921\"]], \"type\": \"histogram2d\"}], \"histogram2dcontour\": [{\"colorbar\": {\"outlinewidth\": 0, \"ticks\": \"\"}, \"colorscale\": [[0.0, \"#0d0887\"], [0.1111111111111111, \"#46039f\"], [0.2222222222222222, \"#7201a8\"], [0.3333333333333333, \"#9c179e\"], [0.4444444444444444, \"#bd3786\"], [0.5555555555555556, \"#d8576b\"], [0.6666666666666666, \"#ed7953\"], [0.7777777777777778, \"#fb9f3a\"], [0.8888888888888888, \"#fdca26\"], [1.0, \"#f0f921\"]], \"type\": \"histogram2dcontour\"}], \"mesh3d\": [{\"colorbar\": {\"outlinewidth\": 0, \"ticks\": \"\"}, \"type\": \"mesh3d\"}], \"parcoords\": [{\"line\": {\"colorbar\": {\"outlinewidth\": 0, \"ticks\": \"\"}}, \"type\": \"parcoords\"}], \"pie\": [{\"automargin\": true, \"type\": \"pie\"}], \"scatter\": [{\"marker\": {\"colorbar\": {\"outlinewidth\": 0, \"ticks\": \"\"}}, \"type\": \"scatter\"}], \"scatter3d\": [{\"line\": {\"colorbar\": {\"outlinewidth\": 0, \"ticks\": \"\"}}, \"marker\": {\"colorbar\": {\"outlinewidth\": 0, \"ticks\": \"\"}}, \"type\": \"scatter3d\"}], \"scattercarpet\": [{\"marker\": {\"colorbar\": {\"outlinewidth\": 0, \"ticks\": \"\"}}, \"type\": \"scattercarpet\"}], \"scattergeo\": [{\"marker\": {\"colorbar\": {\"outlinewidth\": 0, \"ticks\": \"\"}}, \"type\": \"scattergeo\"}], \"scattergl\": [{\"marker\": {\"colorbar\": {\"outlinewidth\": 0, \"ticks\": \"\"}}, \"type\": \"scattergl\"}], \"scattermapbox\": [{\"marker\": {\"colorbar\": {\"outlinewidth\": 0, \"ticks\": \"\"}}, \"type\": \"scattermapbox\"}], \"scatterpolar\": [{\"marker\": {\"colorbar\": {\"outlinewidth\": 0, \"ticks\": \"\"}}, \"type\": \"scatterpolar\"}], \"scatterpolargl\": [{\"marker\": {\"colorbar\": {\"outlinewidth\": 0, \"ticks\": \"\"}}, \"type\": \"scatterpolargl\"}], \"scatterternary\": [{\"marker\": {\"colorbar\": {\"outlinewidth\": 0, \"ticks\": \"\"}}, \"type\": \"scatterternary\"}], \"surface\": [{\"colorbar\": {\"outlinewidth\": 0, \"ticks\": \"\"}, \"colorscale\": [[0.0, \"#0d0887\"], [0.1111111111111111, \"#46039f\"], [0.2222222222222222, \"#7201a8\"], [0.3333333333333333, \"#9c179e\"], [0.4444444444444444, \"#bd3786\"], [0.5555555555555556, \"#d8576b\"], [0.6666666666666666, \"#ed7953\"], [0.7777777777777778, \"#fb9f3a\"], [0.8888888888888888, \"#fdca26\"], [1.0, \"#f0f921\"]], \"type\": \"surface\"}], \"table\": [{\"cells\": {\"fill\": {\"color\": \"#EBF0F8\"}, \"line\": {\"color\": \"white\"}}, \"header\": {\"fill\": {\"color\": \"#C8D4E3\"}, \"line\": {\"color\": \"white\"}}, \"type\": \"table\"}]}, \"layout\": {\"annotationdefaults\": {\"arrowcolor\": \"#2a3f5f\", \"arrowhead\": 0, \"arrowwidth\": 1}, \"coloraxis\": {\"colorbar\": {\"outlinewidth\": 0, \"ticks\": \"\"}}, \"colorscale\": {\"diverging\": [[0, \"#8e0152\"], [0.1, \"#c51b7d\"], [0.2, \"#de77ae\"], [0.3, \"#f1b6da\"], [0.4, \"#fde0ef\"], [0.5, \"#f7f7f7\"], [0.6, \"#e6f5d0\"], [0.7, \"#b8e186\"], [0.8, \"#7fbc41\"], [0.9, \"#4d9221\"], [1, \"#276419\"]], \"sequential\": [[0.0, \"#0d0887\"], [0.1111111111111111, \"#46039f\"], [0.2222222222222222, \"#7201a8\"], [0.3333333333333333, \"#9c179e\"], [0.4444444444444444, \"#bd3786\"], [0.5555555555555556, \"#d8576b\"], [0.6666666666666666, \"#ed7953\"], [0.7777777777777778, \"#fb9f3a\"], [0.8888888888888888, \"#fdca26\"], [1.0, \"#f0f921\"]], \"sequentialminus\": [[0.0, \"#0d0887\"], [0.1111111111111111, \"#46039f\"], [0.2222222222222222, \"#7201a8\"], [0.3333333333333333, \"#9c179e\"], [0.4444444444444444, \"#bd3786\"], [0.5555555555555556, \"#d8576b\"], [0.6666666666666666, \"#ed7953\"], [0.7777777777777778, \"#fb9f3a\"], [0.8888888888888888, \"#fdca26\"], [1.0, \"#f0f921\"]]}, \"colorway\": [\"#636efa\", \"#EF553B\", \"#00cc96\", \"#ab63fa\", \"#FFA15A\", \"#19d3f3\", \"#FF6692\", \"#B6E880\", \"#FF97FF\", \"#FECB52\"], \"font\": {\"color\": \"#2a3f5f\"}, \"geo\": {\"bgcolor\": \"white\", \"lakecolor\": \"white\", \"landcolor\": \"#E5ECF6\", \"showlakes\": true, \"showland\": true, \"subunitcolor\": \"white\"}, \"hoverlabel\": {\"align\": \"left\"}, \"hovermode\": \"closest\", \"mapbox\": {\"style\": \"light\"}, \"paper_bgcolor\": \"white\", \"plot_bgcolor\": \"#E5ECF6\", \"polar\": {\"angularaxis\": {\"gridcolor\": \"white\", \"linecolor\": \"white\", \"ticks\": \"\"}, \"bgcolor\": \"#E5ECF6\", \"radialaxis\": {\"gridcolor\": \"white\", \"linecolor\": \"white\", \"ticks\": \"\"}}, \"scene\": {\"xaxis\": {\"backgroundcolor\": \"#E5ECF6\", \"gridcolor\": \"white\", \"gridwidth\": 2, \"linecolor\": \"white\", \"showbackground\": true, \"ticks\": \"\", \"zerolinecolor\": \"white\"}, \"yaxis\": {\"backgroundcolor\": \"#E5ECF6\", \"gridcolor\": \"white\", \"gridwidth\": 2, \"linecolor\": \"white\", \"showbackground\": true, \"ticks\": \"\", \"zerolinecolor\": \"white\"}, \"zaxis\": {\"backgroundcolor\": \"#E5ECF6\", \"gridcolor\": \"white\", \"gridwidth\": 2, \"linecolor\": \"white\", \"showbackground\": true, \"ticks\": \"\", \"zerolinecolor\": \"white\"}}, \"shapedefaults\": {\"line\": {\"color\": \"#2a3f5f\"}}, \"ternary\": {\"aaxis\": {\"gridcolor\": \"white\", \"linecolor\": \"white\", \"ticks\": \"\"}, \"baxis\": {\"gridcolor\": \"white\", \"linecolor\": \"white\", \"ticks\": \"\"}, \"bgcolor\": \"#E5ECF6\", \"caxis\": {\"gridcolor\": \"white\", \"linecolor\": \"white\", \"ticks\": \"\"}}, \"title\": {\"x\": 0.05}, \"xaxis\": {\"automargin\": true, \"gridcolor\": \"white\", \"linecolor\": \"white\", \"ticks\": \"\", \"title\": {\"standoff\": 15}, \"zerolinecolor\": \"white\", \"zerolinewidth\": 2}, \"yaxis\": {\"automargin\": true, \"gridcolor\": \"white\", \"linecolor\": \"white\", \"ticks\": \"\", \"title\": {\"standoff\": 15}, \"zerolinecolor\": \"white\", \"zerolinewidth\": 2}}}, \"xaxis\": {\"anchor\": \"y\", \"domain\": [0.0, 1.0], \"title\": {\"text\": \"Age\"}}, \"yaxis\": {\"anchor\": \"x\", \"domain\": [0.0, 1.0], \"title\": {\"text\": \"Total work experience, years\"}}},\n",
       "                        {\"responsive\": true}\n",
       "                    ).then(function(){\n",
       "                            \n",
       "var gd = document.getElementById('da1ee059-f451-4406-9d6f-99f63a2763a9');\n",
       "var x = new MutationObserver(function (mutations, observer) {{\n",
       "        var display = window.getComputedStyle(gd).display;\n",
       "        if (!display || display === 'none') {{\n",
       "            console.log([gd, 'removed!']);\n",
       "            Plotly.purge(gd);\n",
       "            observer.disconnect();\n",
       "        }}\n",
       "}});\n",
       "\n",
       "// Listen for the removal of the full notebook cells\n",
       "var notebookContainer = gd.closest('#notebook-container');\n",
       "if (notebookContainer) {{\n",
       "    x.observe(notebookContainer, {childList: true});\n",
       "}}\n",
       "\n",
       "// Listen for the clearing of the current output cell\n",
       "var outputEl = gd.closest('.output');\n",
       "if (outputEl) {{\n",
       "    x.observe(outputEl, {childList: true});\n",
       "}}\n",
       "\n",
       "                        })\n",
       "                };\n",
       "                });\n",
       "            </script>\n",
       "        </div>"
      ]
     },
     "metadata": {},
     "output_type": "display_data"
    }
   ],
   "source": [
    "fig = px.scatter(data, x='Age', y=\"Total work experience, years\", color=\"Desired wage, RUB\")\n",
    "fig.show()"
   ]
  },
  {
   "cell_type": "code",
   "execution_count": 28,
   "metadata": {},
   "outputs": [],
   "source": [
    "import matplotlib.pyplot as plt\n",
    "from mpl_toolkits.mplot3d import Axes3D"
   ]
  },
  {
   "cell_type": "code",
   "execution_count": 29,
   "metadata": {},
   "outputs": [
    {
     "data": {
      "text/plain": [
       "<mpl_toolkits.mplot3d.art3d.Path3DCollection at 0x1a24a2d4d0>"
      ]
     },
     "execution_count": 29,
     "metadata": {},
     "output_type": "execute_result"
    },
    {
     "data": {
      "image/png": "[encoded data removed]",
      "text/plain": [
       "<Figure size 1080x1080 with 1 Axes>"
      ]
     },
     "metadata": {},
     "output_type": "display_data"
    }
   ],
   "source": [
    "fig = plt.figure(figsize=(15, 15))\n",
    "ax = fig.add_subplot(111, projection='3d')\n",
    "ax.scatter(data['Age'], data[\"Total work experience, years\"], data[\"Desired wage, RUB\"], c='skyblue', s=100)"
   ]
  }
 ],
 "metadata": {
  "kernelspec": {
   "display_name": "Python 3",
   "language": "python",
   "name": "python3"
  },
  "language_info": {
   "codemirror_mode": {
    "name": "ipython",
    "version": 3
   },
   "file_extension": ".py",
   "mimetype": "text/x-python",
   "name": "python",
   "nbconvert_exporter": "python",
   "pygments_lexer": "ipython3",
   "version": "3.7.6"
  }
 },
 "nbformat": 4,
 "nbformat_minor": 4
}
